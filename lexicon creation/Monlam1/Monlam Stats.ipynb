{
 "cells": [
  {
   "cell_type": "code",
   "execution_count": 3,
   "metadata": {
    "collapsed": true
   },
   "outputs": [],
   "source": [
    "import re"
   ]
  },
  {
   "cell_type": "code",
   "execution_count": 5,
   "metadata": {
    "collapsed": true
   },
   "outputs": [],
   "source": [
    "with open('../monlam1_basic_pos.txt', 'r', -1, 'utf-8-sig') as f:\n",
    "    content = [line.strip() for line in f.readlines()]"
   ]
  },
  {
   "cell_type": "code",
   "execution_count": 31,
   "metadata": {
    "collapsed": false
   },
   "outputs": [
    {
     "name": "stdout",
     "output_type": "stream",
     "text": [
      "དེ་བཞིན་གཤེགས་པ་ཐམས་ཅད་ཀྱི་ཐུགས་གསང་བའི་ཡེ་ཤེས་དོན་གྱི་སྙིང་པོ་རྡོ་རྗེ་བཀོད་པའི་རྒྱུད་རྣལ་འབྱོར་གྲུབ་པའི་ལུང་ཀུན་འདུས་རིག་པའི་མདོ་ཐེག་པ་ཆེན་པོ་མངོན་པར་རྟོགས་པ་ཆོས་ཀྱི་རྣམ་གྲངས་རྣམ་པར་བཀོད་པ་ཞེས་བྱ་བའི་མདོ\tམིང་ཚིག\n"
     ]
    }
   ],
   "source": [
    "syls_num = {}\n",
    "for line in content:\n",
    "    entry = line.split('\\t')[0]\n",
    "    syls = re.findall('་', entry)\n",
    "    len_syls = len(syls)+1\n",
    "    if len_syls == 51:\n",
    "        print(line)\n",
    "    if len_syls in syls_num.keys():\n",
    "        syls_num[len_syls] = syls_num[len_syls]+1\n",
    "    else:\n",
    "        syls_num[len_syls] = 1"
   ]
  },
  {
   "cell_type": "code",
   "execution_count": 30,
   "metadata": {
    "collapsed": false,
    "scrolled": true
   },
   "outputs": [
    {
     "name": "stdout",
     "output_type": "stream",
     "text": [
      "syls\toccurences\tpercentage\n",
      "in word\n",
      "\n",
      "1\t5654\t\t5.342328552261088\n",
      "2\t35865\t\t33.88797550881569\n",
      "3\t15051\t\t14.221327739667782\n",
      "4\t15802\t\t14.930929568947597\n",
      "5\t6775\t\t6.4015344785229695\n",
      "6\t6826\t\t6.449723151350228\n",
      "7\t4240\t\t4.006273976226922\n",
      "8\t3930\t\t3.7133624355122175\n",
      "9\t2539\t\t2.399040006047206\n",
      "10\t2167\t\t2.047546157189561\n",
      "11\t1473\t\t1.3918022563637393\n",
      "12\t1291\t\t1.2198348356860744\n",
      "13\t973\t\t0.9193642874690553\n",
      "14\t834\t\t0.7880265321163331\n",
      "15\t576\t\t0.5442485401666761\n",
      "16\t455\t\t0.42991855169416254\n",
      "17\t332\t\t0.31369881134607025\n",
      "18\t233\t\t0.2201560935049228\n",
      "19\t190\t\t0.17952642817997996\n",
      "20\t151\t\t0.14267626660619462\n",
      "21\t105\t\t0.09921197346788367\n",
      "22\t81\t\t0.07653495096093883\n",
      "23\t54\t\t0.051023300640625886\n",
      "24\t53\t\t0.050078424702836515\n",
      "25\t35\t\t0.033070657822627886\n",
      "26\t25\t\t0.023621898444734207\n",
      "27\t20\t\t0.018897518755787365\n",
      "28\t17\t\t0.01606289094241926\n",
      "29\t13\t\t0.012283387191261787\n",
      "30\t14\t\t0.013228263129051156\n",
      "31\t3\t\t0.002834627813368105\n",
      "32\t4\t\t0.003779503751157473\n",
      "33\t8\t\t0.007559007502314946\n",
      "34\t7\t\t0.006614131564525578\n",
      "35\t7\t\t0.006614131564525578\n",
      "36\t7\t\t0.006614131564525578\n",
      "37\t3\t\t0.002834627813368105\n",
      "38\t7\t\t0.006614131564525578\n",
      "39\t2\t\t0.0018897518755787365\n",
      "40\t3\t\t0.002834627813368105\n",
      "41\t1\t\t0.0009448759377893683\n",
      "42\t1\t\t0.0009448759377893683\n",
      "43\t2\t\t0.0018897518755787365\n",
      "45\t2\t\t0.0018897518755787365\n",
      "46\t1\t\t0.0009448759377893683\n",
      "47\t1\t\t0.0009448759377893683\n",
      "51\t1\t\t0.0009448759377893683\n"
     ]
    }
   ],
   "source": [
    "print('syls\\toccurences\\tpercentage\\nin word\\n')\n",
    "for Type in sorted(syls_num.keys()):\n",
    "    print(str(Type)+'\\t'+str(syls_num[Type])+'\\t\\t'+str(syls_num[Type] * 100 / len(content)))"
   ]
  },
  {
   "cell_type": "code",
   "execution_count": 11,
   "metadata": {
    "collapsed": false
   },
   "outputs": [
    {
     "data": {
      "text/plain": [
       "{1: 1, 2: 2, 3: 3, 4: 3, 7: 1}"
      ]
     },
     "execution_count": 11,
     "metadata": {},
     "output_type": "execute_result"
    }
   ],
   "source": [
    "syls_num"
   ]
  },
  {
   "cell_type": "code",
   "execution_count": 19,
   "metadata": {
    "collapsed": false
   },
   "outputs": [
    {
     "data": {
      "text/plain": [
       "105834"
      ]
     },
     "execution_count": 19,
     "metadata": {},
     "output_type": "execute_result"
    }
   ],
   "source": [
    "len(content)"
   ]
  },
  {
   "cell_type": "code",
   "execution_count": 1,
   "metadata": {
    "collapsed": true
   },
   "outputs": [],
   "source": [
    "with open('./monlam1_verbs.txt', 'r', -1, 'utf-8-sig') as f:\n",
    "    content1 = [line.strip() for line in f.readlines()]"
   ]
  },
  {
   "cell_type": "code",
   "execution_count": 4,
   "metadata": {
    "collapsed": false
   },
   "outputs": [],
   "source": [
    "pos_num = {}\n",
    "for line in content1:\n",
    "    entry = line.split(' | ')[1]\n",
    "    pos = re.findall('\\+', entry)\n",
    "    len_pos = len(pos)+1\n",
    "    if len_pos == 18 or len_pos == 14 or len_pos == 13:\n",
    "        print(line)\n",
    "    if len_pos in pos_num.keys():\n",
    "        pos_num[len_pos] = pos_num[len_pos]+1\n",
    "    else:\n",
    "        pos_num[len_pos] = 1"
   ]
  },
  {
   "cell_type": "code",
   "execution_count": 5,
   "metadata": {
    "collapsed": false,
    "scrolled": true
   },
   "outputs": [
    {
     "name": "stdout",
     "output_type": "stream",
     "text": [
      "pos per\t\toccurences\tpercentage\n",
      "verb form\n",
      "\n",
      "1\t\t1099\t\t40.007280669821625\n",
      "2\t\t845\t\t30.760829996359664\n",
      "3\t\t174\t\t6.334182744812523\n",
      "4\t\t361\t\t13.14160902803058\n",
      "5\t\t61\t\t2.220604295595195\n",
      "6\t\t147\t\t5.351292318893338\n",
      "7\t\t24\t\t0.8736803785948307\n",
      "8\t\t23\t\t0.8372770294867128\n",
      "9\t\t4\t\t0.1456133964324718\n",
      "10\t\t8\t\t0.2912267928649436\n",
      "12\t\t1\t\t0.03640334910811795\n"
     ]
    }
   ],
   "source": [
    "print('pos per\\t\\toccurences\\tpercentage\\nverb form\\n')\n",
    "for Type in sorted(pos_num.keys()):\n",
    "    print(str(Type)+'\\t\\t'+str(pos_num[Type])+'\\t\\t'+str(pos_num[Type] * 100 / len(content1)))"
   ]
  },
  {
   "cell_type": "code",
   "execution_count": null,
   "metadata": {
    "collapsed": true
   },
   "outputs": [],
   "source": [
    ""
   ]
  }
 ],
 "metadata": {
  "kernelspec": {
   "display_name": "Python 3",
   "language": "python",
   "name": "python3"
  },
  "language_info": {
   "codemirror_mode": {
    "name": "ipython",
    "version": 3.0
   },
   "file_extension": ".py",
   "mimetype": "text/x-python",
   "name": "python",
   "nbconvert_exporter": "python",
   "pygments_lexer": "ipython3",
   "version": "3.5.1"
  }
 },
 "nbformat": 4,
 "nbformat_minor": 0
}