{
 "cells": [
  {
   "cell_type": "code",
   "execution_count": 1,
   "metadata": {
    "collapsed": true
   },
   "outputs": [],
   "source": [
    "from bs4 import BeautifulSoup as Soup\n",
    "import re\n",
    "import os"
   ]
  },
  {
   "cell_type": "code",
   "execution_count": 2,
   "metadata": {
    "collapsed": true
   },
   "outputs": [],
   "source": [
    "os.chdir('../../eKangyur/')"
   ]
  },
  {
   "cell_type": "code",
   "execution_count": 7,
   "metadata": {
    "collapsed": false
   },
   "outputs": [
    {
     "name": "stdout",
     "output_type": "stream",
     "text": [
      "༠༨ ཕལ་ཆེན།\n",
      "\t\t ཕལ་ཆེན། ཁ\n",
      "\t\t ཕལ་ཆེན། ཀ\n",
      "\t\t ཕལ་ཆེན། ག\n",
      "\t\t ཕལ་ཆེན། ཨ\n",
      "༡༡ རྒྱུད་འབུམ།\n",
      "\t\t བརྒྱུད་འབུམ། ཚ\n",
      "\t\t བརྒྱུད་འབུམ། ཆ\n",
      "\t\t བརྒྱུད་འབུམ། ཙ\n",
      "\t\t བརྒྱུད་འབུམ། ཁ\n",
      "\t\t བརྒྱུད་འབུམ། ད\n",
      "\t\t བརྒྱུད་འབུམ། ཝ\n",
      "\t\t བརྒྱུད་འབུམ། ཕ\n",
      "\t\t བརྒྱུད་འབུམ། མ\n",
      "\t\t བརྒྱུད་འབུམ། ན\n",
      "\t\t བརྒྱུད་འབུམ། ཏ\n",
      "\t\t བརྒྱུད་འབུམ། ཀ\n",
      "\t\t བརྒྱུད་འབུམ། པ\n",
      "\t\t བརྒྱུད་འབུམ། ག\n",
      "\t\t བརྒྱུད་འབུམ། ཐ\n",
      "\t\t བརྒྱུད་འབུམ། བ\n",
      "\t\t བརྒྱུད་འབུམ། ཅ\n",
      "\t\t བརྒྱུད་འབུམ། ཉ\n",
      "\t\t བརྒྱུད་འབུམ། ང\n",
      "\t\t བརྒྱུད་འབུམ། ཛ\n",
      "\t\t བརྒྱུད་འབུམ། ཇ\n",
      "༠༡ འདུལ་བ།\n",
      "\t\t འདུལ་བ། ང\n",
      "\t\t འདུལ་བ། པ\n",
      "\t\t འདུལ་བ། ཁ\n",
      "\t\t འདུལ་བ། ན\n",
      "\t\t འདུལ་བ། ཀ\n",
      "\t\t འདུལ་བ། ཇ\n",
      "\t\t འདུལ་བ། ད\n",
      "\t\t འདུལ་བ། ཅ\n",
      "\t\t འདུལ་བ། ཏ\n",
      "\t\t འདུལ་བ། ཆ\n",
      "\t\t འདུལ་བ། ག\n",
      "\t\t འདུལ་བ། ཉ\n",
      "\t\t འདུལ་བ། ཐ\n",
      "༡༣ གཟུངས་འདུས།\n",
      "\t\t གཟུངས་འདུས། ཨེ\n",
      "\t\t གཟུངས་འདུས། ཝཾ\n",
      "༠༢ ཤེར་ཕྱིན་འབུམ།\n",
      "\t\t འབུམ། ཐ\n",
      "\t\t འབུམ། ང\n",
      "\t\t འབུམ། ག\n",
      "\t\t འབུམ། ཀ\n",
      "\t\t འབུམ། ཅ\n",
      "\t\t འབུམ། ད\n",
      "\t\t འབུམ། ན\n",
      "\t\t འབུམ། ཉ\n",
      "\t\t འབུམ། ཁ\n",
      "\t\t འབུམ། ཏ\n",
      "\t\t འབུམ། ཇ\n",
      "\t\t འབུམ། ཆ\n",
      "༠༦ བརྒྱད་སྟོང་པ།\n",
      "\t\t ཤེར་ཕྱིན་བརྒྱད་སྟོང་པ།\n",
      "༠༤ ཤེར་ཕྱིན་ཁྲི་བརྒྱད་སྟོང་པ། ༠༥ ཁྲི་པ།\n",
      "\t\t ཁྲི་པ། ང\n",
      "\t\t ཁྲི་བརྒྱད་སྟོང་པ། ཁ\n",
      "\t\t ཁྲི་བརྒྱད་སྟོང་པ། ཀ\n",
      "\t\t ཁྲི་བརྒྱད་སྟོང་པ། ག ཁྲི་པ། ག\n",
      "༡༥ བཀའ་འགྱུར་དཀར་ཆག\n",
      "\t\t དཀར་ཆག\n",
      "༠༣ ཤེར་ཕྱིན་སྟོང་ཕྲག་ཉི་ཤུ་ལྔ་པ།\n",
      "\t\t ཉི་ཁྲི། ཁ\n",
      "\t\t ཉི་ཁྲི། ཀ\n",
      "\t\t ཉི་ཁྲི། ག\n",
      "༠༩ དཀོན་བརྩེགས།\n",
      "\t\t དཀོན་བརྩེགས། ཁ\n",
      "\t\t དཀོན་བརྩེགས། ཀ\n",
      "\t\t དཀོན་བརྩེགས། ག\n",
      "\t\t དཀོན་བརྩེགས། ཅ\n",
      "\t\t དཀོན་བརྩེགས། ང\n",
      "\t\t དཀོན་བརྩེགས། ཆ\n",
      "༡༠ མདོ་སྡེ།\n",
      "\t\t མདོ་སྡེ། ཕ\n",
      "\t\t མདོ་སྡེ། ཞ\n",
      "\t\t མདོ་སྡེ། ས\n",
      "\t\t མདོ་སྡེ། པ\n",
      "\t\t མདོ་སྡེ། ཁ\n",
      "\t\t མདོ་སྡེ། ལ\n",
      "\t\t མདོ་སྡེ། ཛ\n",
      "\t\t མདོ་སྡེ། ད\n",
      "\t\t མདོ་སྡེ། ཙ\n",
      "\t\t མདོ་སྡེ། ཆ\n",
      "\t\t མདོ་སྡེ། ཉ\n",
      "\t\t མདོ་སྡེ། ཐ\n",
      "\t\t མདོ་སྡེ། ཨ\n",
      "\t\t མདོ་སྡེ། ཧ\n",
      "\t\t མདོ་སྡེ། ཀ\n",
      "\t\t མདོ་སྡེ། ཨཱ\n",
      "\t\t མདོ་སྡེ། ཚ\n",
      "\t\t མདོ་སྡེ། ཇ\n",
      "\t\t མདོ་སྡེ། ང\n",
      "\t\t མདོ་སྡེ། ཏ\n",
      "\t\t མདོ་སྡེ། ཨཾ\n",
      "\t\t མདོ་སྡེ། ཅ\n",
      "\t\t མདོ་སྡེ། ན\n",
      "\t\t མདོ་སྡེ། ཝ\n",
      "\t\t མདོ་སྡེ། ཡ\n",
      "\t\t མདོ་སྡེ། མ\n",
      "\t\t མདོ་སྡེ། བ\n",
      "\t\t མདོ་སྡེ། ར\n",
      "\t\t མདོ་སྡེ། ག\n",
      "\t\t མདོ་སྡེ། ཤ\n",
      "\t\t མདོ་སྡེ། འ\n",
      "\t\t མདོ་སྡེ། ཟ\n",
      "༡༤ དུས་འཁོར་འགྲེལ་བཤད།\n",
      "\t\t དུས་འཁོར་འགྲེལ་བཤད། ཤཷ\n",
      "༠༧ ཤེར་ཕྱིན་སྣ་ཚོགས།\n",
      "\t\t ཤེས་རབ་སྣ་ཚོགས།\n",
      "༡༢ རྙིང་རྒྱུད།\n",
      "\t\t རྙིང་བརྒྱུད། ག\n",
      "\t\t རྙིང་བརྒྱུད། ཀ\n",
      "\t\t རྙིང་བརྒྱུད། ཁ\n"
     ]
    }
   ],
   "source": [
    "for Folder in os.listdir('.'):\n",
    "    print(Folder)\n",
    "    for File in os.listdir(Folder):\n",
    "        print('\\t\\t', File)\n",
    "        for Fich in os.listdir(Folder+'/'+File):\n",
    "            if not Fich.startswith('_'):\n",
    "                with open(Folder+'/'+File+'/'+Fich, 'r', -1, 'utf-8-sig') as f:\n",
    "                    volume = f.read()\n",
    "                soup = Soup(volume, 'lxml')\n",
    "                output = ''\n",
    "                for page in soup.find_all('tei:p'):\n",
    "                    text = re.sub(r'\\<[^>]+\\>', r'', str(page))\n",
    "                    output += text + '\\n'\n",
    "                with open('../txt/'+'{}.txt'.format(File), 'w', -1, 'utf-8-sig') as f:\n",
    "                    f.write(output)"
   ]
  },
  {
   "cell_type": "code",
   "execution_count": null,
   "metadata": {
    "collapsed": true
   },
   "outputs": [],
   "source": [
    ""
   ]
  }
 ],
 "metadata": {
  "kernelspec": {
   "display_name": "Python 3",
   "language": "python",
   "name": "python3"
  },
  "language_info": {
   "codemirror_mode": {
    "name": "ipython",
    "version": 3.0
   },
   "file_extension": ".py",
   "mimetype": "text/x-python",
   "name": "python",
   "nbconvert_exporter": "python",
   "pygments_lexer": "ipython3",
   "version": "3.5.1"
  }
 },
 "nbformat": 4,
 "nbformat_minor": 0
}