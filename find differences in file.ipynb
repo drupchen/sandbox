{
 "cells": [
  {
   "cell_type": "code",
   "execution_count": 1,
   "metadata": {
    "collapsed": false
   },
   "outputs": [],
   "source": [
    "from Classes import prepare_tib\n",
    "import re\n",
    "import codecs"
   ]
  },
  {
   "cell_type": "code",
   "execution_count": 2,
   "metadata": {
    "collapsed": true
   },
   "outputs": [],
   "source": [
    "def filewrite(name, content):\n",
    "    with codecs.open(name, 'w', 'utf8') as f:\n",
    "        f.write(content)\n",
    "def fileread(name):\n",
    "    with codecs.open(name, 'r', 'utf8') as f:\n",
    "        return re.sub(r'[།་]', '', f.read())"
   ]
  },
  {
   "cell_type": "code",
   "execution_count": 3,
   "metadata": {
    "collapsed": true
   },
   "outputs": [],
   "source": [
    "def starts_same(string1, string2):\n",
    "    if string1 != '' or string2 != '':\n",
    "        if string1[0] == string2[0]:\n",
    "            return True\n",
    "        else:\n",
    "            return False\n",
    "    else:\n",
    "        return False\n",
    "\n",
    "def ends_same(string1, string2):\n",
    "    if string1 != '' or string2 != '':\n",
    "        if string1[-1] == string2[-1]:\n",
    "            return True\n",
    "        else:\n",
    "            return False\n",
    "    else:\n",
    "        return False"
   ]
  },
  {
   "cell_type": "code",
   "execution_count": 4,
   "metadata": {
    "collapsed": true
   },
   "outputs": [],
   "source": [
    "def show_differences(list1, list2):\n",
    "    tuples = []\n",
    "    while list1 != [] or list2 != []:\n",
    "        word1 = list1[0]\n",
    "        word2 = list2[0]\n",
    "        if starts_same(word1, word2) and ends_same(word1, word2): # word starts and ends in the same way\n",
    "            if word1 == word2: # word1 is word2\n",
    "                del list1[0]\n",
    "                del list2[0]\n",
    "            else: # if same start and end but different in the middle\n",
    "                tuples.append((word1, word2))\n",
    "                del list1[0]\n",
    "                del list2[0]\n",
    "        elif starts_same(word1, word2) and not (ends_same(word1, word2)): # word starts the same but does not end in the same way\n",
    "            if len(word1) > len(word2): # if word1 is longer (word2 is the first part of word1)\n",
    "                i = 1 # calculate how many parts of word1 \n",
    "                while not ends_same(word1, list2[i]):\n",
    "                    i= i+1            \n",
    "                tuples.append((' '.join(list2[:i+1]), word1))\n",
    "                del list2[:i+1]\n",
    "                del list1[0]\n",
    "            elif len(word2) > len(word1): # if word2 is longer (word1 is the first part of word2)\n",
    "                i = 1 # calculate how many parts of word2\n",
    "                while not ends_same(word2, list1[i]):\n",
    "                    i= i+1            \n",
    "                tuples.append((' '.join(list1[:i+1]), word2))\n",
    "                del list1[:i+1]\n",
    "                del list2[0]\n",
    "        else: # in all other cases, stop the while loop\n",
    "            break\n",
    "    return tuples"
   ]
  },
  {
   "cell_type": "code",
   "execution_count": 5,
   "metadata": {
    "collapsed": false
   },
   "outputs": [
    {
     "name": "stdout",
     "output_type": "stream",
     "text": [
      "[('b c', 'bc'), ('d z', 'dz')]\n"
     ]
    }
   ],
   "source": [
    "lista = ['a', 'b', 'c', 'dz', 'e']\n",
    "listb = ['a', 'bc', 'd', 'z', 'e']\n",
    "print(show_differences(lista, listb))"
   ]
  },
  {
   "cell_type": "code",
   "execution_count": 19,
   "metadata": {
    "collapsed": false
   },
   "outputs": [],
   "source": [
    "segmented_file = 'g རྒྱུད། ཤ།_segmented.txt'\n",
    "corrected_file = 'g རྒྱུད། ཤ།_segmented.txt'\n",
    "\n",
    "segmented_path = '/home/drupchen/Documents/TibTAL/Current/B གཏུབ་ཚར་བ།/༢-རྒྱུད།/བཟོ་བཞིན་པ།/txt/'\n",
    "corrected_path = '/home/drupchen/Documents/TibTAL/Current/C ཞུ་དག་ཚར་བ།/རྒྱུད།/txt/'\n",
    "\n",
    "segmented = fileread(segmented_path+segmented_file)\n",
    "segmented = re.sub(r'[\\!\\+\\-]+', ' ', segmented)\n",
    "segmented = re.sub(r'\\n', ' ', segmented)\n",
    "segmented = segmented.split(' ')\n",
    "corrected = fileread(corrected_path+corrected_file)\n",
    "corrected = re.sub(r'[\\!\\+\\-]+', ' ', corrected)\n",
    "corrected = re.sub(r'\\n', ' ', corrected)\n",
    "corrected = corrected.split(' ')"
   ]
  },
  {
   "cell_type": "code",
   "execution_count": 20,
   "metadata": {
    "collapsed": false,
    "scrolled": true
   },
   "outputs": [
    {
     "name": "stdout",
     "output_type": "stream",
     "text": [
      "﻿[༄༅,སྒྲོལམ,འི,སྒྲུབ,ཐབས,༄༅༅,རྒྱ,གར,སྐད,དུ,ཏཱ,ར,སཱ,དྷ,ནཾ,བོད,སྐད,དུ,སྒྲོལ,མ,འི,སྒྲུབ,ཐབས,རྗེ,བཙུན,སྒྲོལམ,ལ,ཕྱག,འཚལ,ལོ,འཁོར,བ,འི,སེམསཅན,ཐམསཅད,ཀྱི,སྡུག,བསྔལ,,ཐམསཅད,སྤངས,ནས,ནི,མྱ,ངན,འདསཔ,རབ,སྟེར,བ,ཆུ,ལས,སྐམས,ར,འདོནཔ,བཞིན,རྗེ,བཙུནམ,ལ,ཕྱག,འཚལ,ནས,སྒྲུབ,པ,འི,ཐབས,ནི,བྲིབ,ར,བྱ,སྒྲུབ,པ,འི,ཐབས,ནི,,གཞན,རྣམས,ལས,འདི,ནི,མཆོག,ཏུ,གྱུརཔ,ཡིན,ཡིད,དང,རྗེས,སུ,མཐུནཔ,འི,གནས,སུ,ཁྲུས,བྱས,ལ,སྟན,བདེབ,ལ,འདུག,སྟེ,\n",
      "﻿[༄༅,སྒྲོལམ,འི,སྒྲུབཐབས,༄༅༅,རྒྱ,གར,སྐད,,དུ,ཏཱ,ར,,སཱ,,དྷ,,ནཾ,བོད,སྐད,,དུ,སྒྲོལ,མ,འི,སྒྲུབཐབས,རྗེབཙུན,སྒྲོལམ,ལ,ཕྱགའཚལལོ,འཁོར,བ,འི,སེམསཅན,ཐམསཅད,,ཀྱི,སྡུགབསྔལ,,ཐམསཅད,སྤངས,ནས,,ནི,མྱངན,འདསཔ,རབ,སྟེརབ,ཆུ,ལས,སྐམས,ར,འདོནཔ,,བཞིན,རྗེབཙུནམ,ལ,ཕྱགའཚལ,,ནས,སྒྲུབཔ,འི,ཐབས,ནི,བྲིབ,ར,བྱ,སྒྲུབཔ,འི,ཐབས,ནི,,གཞནརྣམས,,ལས,འདི,ནི,མཆོག,ཏུ,གྱུརཔ,,ཡིན,ཡིདདང,རྗེསསུ,མཐུནཔ,འི,,གནསསུ,ཁྲུས,བྱས,,ལ,སྟན,བདེབ,,ལ,འདུགསྟེ,,སྐདཅིག,,"
     ]
    }
   ],
   "source": [
    "for i in segmented[:100]:\n",
    "    print(i, end= ',')\n",
    "print()\n",
    "for i in corrected[:100]:\n",
    "    print(i, end= ',')"
   ]
  },
  {
   "cell_type": "code",
   "execution_count": 21,
   "metadata": {
    "collapsed": false
   },
   "outputs": [
    {
     "ename": "IndexError",
     "evalue": "string index out of range",
     "traceback": [
      "\u001b[1;31m---------------------------------------------------------------------------\u001b[0m",
      "\u001b[1;31mIndexError\u001b[0m                                Traceback (most recent call last)",
      "\u001b[1;32m<ipython-input-21-298667acb260>\u001b[0m in \u001b[0;36m<module>\u001b[1;34m()\u001b[0m\n\u001b[1;32m----> 1\u001b[1;33m \u001b[0mprint\u001b[0m\u001b[1;33m(\u001b[0m\u001b[0mshow_differences\u001b[0m\u001b[1;33m(\u001b[0m\u001b[0msegmented\u001b[0m\u001b[1;33m,\u001b[0m \u001b[0mcorrected\u001b[0m\u001b[1;33m)\u001b[0m\u001b[1;33m)\u001b[0m\u001b[1;33m\u001b[0m\u001b[0m\n\u001b[0m",
      "\u001b[1;32m<ipython-input-4-25cc72b4b7e6>\u001b[0m in \u001b[0;36mshow_differences\u001b[1;34m(list1, list2)\u001b[0m\n\u001b[0;32m      4\u001b[0m         \u001b[0mword1\u001b[0m \u001b[1;33m=\u001b[0m \u001b[0mlist1\u001b[0m\u001b[1;33m[\u001b[0m\u001b[1;36m0\u001b[0m\u001b[1;33m]\u001b[0m\u001b[1;33m\u001b[0m\u001b[0m\n\u001b[0;32m      5\u001b[0m         \u001b[0mword2\u001b[0m \u001b[1;33m=\u001b[0m \u001b[0mlist2\u001b[0m\u001b[1;33m[\u001b[0m\u001b[1;36m0\u001b[0m\u001b[1;33m]\u001b[0m\u001b[1;33m\u001b[0m\u001b[0m\n\u001b[1;32m----> 6\u001b[1;33m         \u001b[1;32mif\u001b[0m \u001b[0mstarts_same\u001b[0m\u001b[1;33m(\u001b[0m\u001b[0mword1\u001b[0m\u001b[1;33m,\u001b[0m \u001b[0mword2\u001b[0m\u001b[1;33m)\u001b[0m \u001b[1;32mand\u001b[0m \u001b[0mends_same\u001b[0m\u001b[1;33m(\u001b[0m\u001b[0mword1\u001b[0m\u001b[1;33m,\u001b[0m \u001b[0mword2\u001b[0m\u001b[1;33m)\u001b[0m\u001b[1;33m:\u001b[0m \u001b[1;31m# word starts and ends in the same way\u001b[0m\u001b[1;33m\u001b[0m\u001b[0m\n\u001b[0m\u001b[0;32m      7\u001b[0m             \u001b[1;32mif\u001b[0m \u001b[0mword1\u001b[0m \u001b[1;33m==\u001b[0m \u001b[0mword2\u001b[0m\u001b[1;33m:\u001b[0m \u001b[1;31m# word1 is word2\u001b[0m\u001b[1;33m\u001b[0m\u001b[0m\n\u001b[0;32m      8\u001b[0m                 \u001b[1;32mdel\u001b[0m \u001b[0mlist1\u001b[0m\u001b[1;33m[\u001b[0m\u001b[1;36m0\u001b[0m\u001b[1;33m]\u001b[0m\u001b[1;33m\u001b[0m\u001b[0m\n",
      "\u001b[1;32m<ipython-input-3-4f2f99611db5>\u001b[0m in \u001b[0;36mstarts_same\u001b[1;34m(string1, string2)\u001b[0m\n\u001b[0;32m      1\u001b[0m \u001b[1;32mdef\u001b[0m \u001b[0mstarts_same\u001b[0m\u001b[1;33m(\u001b[0m\u001b[0mstring1\u001b[0m\u001b[1;33m,\u001b[0m \u001b[0mstring2\u001b[0m\u001b[1;33m)\u001b[0m\u001b[1;33m:\u001b[0m\u001b[1;33m\u001b[0m\u001b[0m\n\u001b[0;32m      2\u001b[0m     \u001b[1;32mif\u001b[0m \u001b[0mstring1\u001b[0m \u001b[1;33m!=\u001b[0m \u001b[1;34m''\u001b[0m \u001b[1;32mor\u001b[0m \u001b[0mstring2\u001b[0m \u001b[1;33m!=\u001b[0m \u001b[1;34m''\u001b[0m\u001b[1;33m:\u001b[0m\u001b[1;33m\u001b[0m\u001b[0m\n\u001b[1;32m----> 3\u001b[1;33m         \u001b[1;32mif\u001b[0m \u001b[0mstring1\u001b[0m\u001b[1;33m[\u001b[0m\u001b[1;36m0\u001b[0m\u001b[1;33m]\u001b[0m \u001b[1;33m==\u001b[0m \u001b[0mstring2\u001b[0m\u001b[1;33m[\u001b[0m\u001b[1;36m0\u001b[0m\u001b[1;33m]\u001b[0m\u001b[1;33m:\u001b[0m\u001b[1;33m\u001b[0m\u001b[0m\n\u001b[0m\u001b[0;32m      4\u001b[0m             \u001b[1;32mreturn\u001b[0m \u001b[1;32mTrue\u001b[0m\u001b[1;33m\u001b[0m\u001b[0m\n\u001b[0;32m      5\u001b[0m         \u001b[1;32melse\u001b[0m\u001b[1;33m:\u001b[0m\u001b[1;33m\u001b[0m\u001b[0m\n",
      "\u001b[1;31mIndexError\u001b[0m: string index out of range"
     ],
     "output_type": "error"
    }
   ],
   "source": [
    "print(show_differences(segmented, corrected))"
   ]
  },
  {
   "cell_type": "code",
   "execution_count": null,
   "metadata": {
    "collapsed": true
   },
   "outputs": [],
   "source": [
    ""
   ]
  }
 ],
 "metadata": {
  "kernelspec": {
   "display_name": "Python 3",
   "language": "python",
   "name": "python3"
  },
  "language_info": {
   "codemirror_mode": {
    "name": "ipython",
    "version": 3.0
   },
   "file_extension": ".py",
   "mimetype": "text/x-python",
   "name": "python",
   "nbconvert_exporter": "python",
   "pygments_lexer": "ipython3",
   "version": "3.5.1"
  }
 },
 "nbformat": 4,
 "nbformat_minor": 0
}