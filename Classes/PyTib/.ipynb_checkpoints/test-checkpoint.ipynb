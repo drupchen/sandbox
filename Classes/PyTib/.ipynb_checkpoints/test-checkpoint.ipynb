{
 "cells": [
  {
   "cell_type": "code",
   "execution_count": 4,
   "metadata": {
    "collapsed": true
   },
   "outputs": [],
   "source": []
  },
  {
   "cell_type": "code",
   "execution_count": 11,
   "metadata": {
    "collapsed": true
   },
   "outputs": [],
   "source": [
    "compound = '''base segmentation,(M)erge/(S)plit,left,replacement,right,,Documentation,,\n",
    "ལྷག་པ ར,M,,ལྷག་པར,,,,,\n",
    "དེ་ ལྟ་བུ,M,,དེ་ལྟ་བུ,,,\"all information outside of A, C, D E, G, H and I columns will be ignored.\",,\n",
    "རྣམ་པ ར,M,,རྣམ་པར,,,All formatting of the spreadsheet will be lost because of the file format (csv).,,\n",
    "ལོག་པ ར,M,,ལོག་པར,,,,,\n",
    "ཡང་དག་པ ར,M,,ཡང་དག་པར,,,segmentation will be adapted if and only if either SPLIT or MERGED cells are not empty,,\n",
    "ལེགས་པ ར,M,,ལེགས་པར,,,\"if you want to keep a context and not apply the modification, delete the content of either SPLIT or MERGED cell.\",,\n",
    "དེ་ལྟར་ ན,M,,དེ་ལྟར་ན,,,empty context cells will be understood as no restriction.,,\n",
    "ཇི་སྙམ་ དུ,M,,ཇི་སྙམ་དུ,,,,,\n",
    "འདི་ ལྟ་བུ,M,,འདི་ལྟ་བུ,,,the allowed POS tags are the following ones : ,,\n",
    "སྣ་ཚོགས་པ ར,M,,སྣ་ཚོགས་པར,,,,V,verb\n",
    "སྐད་ཅིག་ མ,M,,སྐད་ཅིག་མ,,,,N,noun\n",
    "ངོ་བོ་ ཉིད,M,,ངོ་བོ་ཉིད,,,,ADV,adverb\n",
    "སངས་ རྒྱས,M,,སངས་རྒྱས,,,,PART,particle\n",
    "རང་ སངས་རྒྱས,M,,རང་སངས་རྒྱས,,,the POS of the word will be compared to the one given,,\n",
    "དེ་ ཁོ་ན་ ཉིད,M,,དེ་ཁོ་ན་ཉིད,,,,,\n",
    "རྡུལ་ ཕྲ་ རབ,M,,རྡུལ་ཕྲ་རབ,,,,,\n",
    "ཁོ་བོ་ ཅག,M,,ཁོ་བོ་ཅག,,,,,\n",
    "ཞེས་ བྱ་བ,M,,ཞེས་བྱ་བ,,,,,\n",
    "ཅེས་ བྱ,M,,ཅེས་བྱ,,,,,'''\n",
    "compound = compound.split('\\n')"
   ]
  },
  {
   "cell_type": "code",
   "execution_count": 14,
   "metadata": {
    "collapsed": false
   },
   "outputs": [],
   "source": [
    "selfcompound = ([], [])\n",
    "for line in compound[1:]:\n",
    "    parts = line.split(',')\n",
    "    selfcompound[0].append(parts[0])\n",
    "    selfcompound[1].append((parts[2], parts[3], parts[4]))"
   ]
  },
  {
   "cell_type": "code",
   "execution_count": 43,
   "metadata": {
    "collapsed": false
   },
   "outputs": [],
   "source": [
    "def strip_tsek(l):\n",
    "    for n, e in enumerate(l):\n",
    "        if e.endswith('་'):\n",
    "            l[n] = e[:-1]\n",
    "    return l"
   ]
  },
  {
   "cell_type": "code",
   "execution_count": 48,
   "metadata": {
    "collapsed": false
   },
   "outputs": [],
   "source": [
    "def do_compound(segmented):\n",
    "    words = strip_tsek(segmented.split(' '))\n",
    "    for n, elt in enumerate(selfcompound[0][0]):\n",
    "        repl = selfcompound[1][n]\n",
    "        if repl[0] == '' and repl[2] == '':\n",
    "            segmented = segmented.replace(elt, repl[1])\n",
    "        else:\n",
    "            # find indices of all occurences of the raw sequence in words\n",
    "            raw = elt.split(' ')\n",
    "            print(raw)\n",
    "            occ_index = [(i, i+len(raw)) for i in range(len(words)) if words[i:i+len(raw)] == raw]\n",
    "            #print(occ_index)\n",
    "            \n",
    "    return segmented\n",
    "do_compound(truc)"
   ]
  },
  {
   "cell_type": "code",
   "execution_count": 44,
   "metadata": {
    "collapsed": false
   },
   "outputs": [
    {
     "name": "stdout",
     "output_type": "stream",
     "text": [
      "['ལྷག་པ', 'ར']\n",
      "['ལྷག་པ', 'ར', 'བཀྲ་ཤིས', 'བདེ', 'ལེགས', 'ལྷག་པ', 'ར', 'ཕུན་སུམ', 'ཚོགས་པ', 'ལྷག་པ', 'ར', 'ཤོག', 'ཅིག', 'གུ།', 'ལྷག་པ', 'ར']\n",
      "[(0, 2), (5, 7), (9, 11), (14, 16)]\n"
     ]
    }
   ],
   "source": [
    "truc = 'ལྷག་པ ར་ བཀྲ་ཤིས་ བདེ་ ལེགས་ ལྷག་པ ར་ ཕུན་སུམ་ ཚོགས་པ་ ལྷག་པ ར་ ཤོག་ ཅིག་ གུ། ལྷག་པ ར་'\n",
    "words = strip_tsek(truc.split(' '))\n",
    "raw = selfcompound[0][0]\n",
    "raw_list = raw.split(' ')\n",
    "print(raw_list)\n",
    "print(words)\n",
    "print([(i, i+len(raw_list)) for i in range(len(words)) if words[i:i+len(raw_list)] == raw_list])"
   ]
  },
  {
   "cell_type": "code",
   "execution_count": null,
   "metadata": {
    "collapsed": true
   },
   "outputs": [],
   "source": []
  }
 ],
 "metadata": {
  "kernelspec": {
   "display_name": "Python 3",
   "language": "python",
   "name": "python3"
  },
  "language_info": {
   "codemirror_mode": {
    "name": "ipython",
    "version": 3
   },
   "file_extension": ".py",
   "mimetype": "text/x-python",
   "name": "python",
   "nbconvert_exporter": "python",
   "pygments_lexer": "ipython3",
   "version": "3.4.3"
  }
 },
 "nbformat": 4,
 "nbformat_minor": 0
}
