{
 "cells": [
  {
   "cell_type": "code",
   "execution_count": 2,
   "metadata": {
    "collapsed": false
   },
   "outputs": [],
   "source": [
    "import re\n",
    "import codecs\n",
    "import yaml"
   ]
  },
  {
   "cell_type": "code",
   "execution_count": 2,
   "metadata": {
    "collapsed": false
   },
   "outputs": [],
   "source": [
    "with codecs.open('../GIT/tibetan-wordbreak-js/src/TDC.txt', 'r', 'utf8') as f:\n",
    "    TDC = f.readlines()\n",
    "    \n",
    "    i=0\n",
    "    while i <= len(TDC)-1:\n",
    "        TDC[i] = TDC[i].strip()\n",
    "        i = i+1"
   ]
  },
  {
   "cell_type": "code",
   "execution_count": 3,
   "metadata": {
    "collapsed": false
   },
   "outputs": [],
   "source": [
    "syl_splitted = []\n",
    "for entry in TDC:\n",
    "    syl_splitted.append(entry.split('་')[:-1])"
   ]
  },
  {
   "cell_type": "code",
   "execution_count": 4,
   "metadata": {
    "collapsed": false
   },
   "outputs": [
    {
     "data": {
      "text/plain": [
       "['ཨེ', 'ཁུང']"
      ]
     },
     "execution_count": 4,
     "metadata": {},
     "output_type": "execute_result"
    }
   ],
   "source": [
    "syl_splitted[len(syl_splitted)-2]"
   ]
  },
  {
   "cell_type": "markdown",
   "metadata": {},
   "source": [
    "# First Pass"
   ]
  },
  {
   "cell_type": "code",
   "execution_count": 5,
   "metadata": {
    "collapsed": false
   },
   "outputs": [],
   "source": [
    "def subfinder(mylist, pattern):\n",
    "    matches = []\n",
    "    for i in range(len(mylist)):\n",
    "        if mylist[i] == pattern[0] and mylist[i:i+len(pattern)] == pattern:\n",
    "            matches.append(pattern)\n",
    "    return matches"
   ]
  },
  {
   "cell_type": "code",
   "execution_count": 55,
   "metadata": {
    "collapsed": false
   },
   "outputs": [],
   "source": [
    "# fill results[] with the entries containing \n",
    "results = {}\n",
    "for entry in syl_splitted[:-1]:\n",
    "    for Entry in syl_splitted[:-1]:\n",
    "        if not entry == Entry: # filter same entries\n",
    "            sub_entry = subfinder(entry, Entry)\n",
    "            if sub_entry != []: # filter entries with no sub list\n",
    "\n",
    "                # add entries to a dict\n",
    "                one = '་'.join(entry)+'་'\n",
    "                two = '་'.join(Entry)+'་'\n",
    "                if one in results.keys():\n",
    "                    results[one].append(two)\n",
    "                else:\n",
    "                    results[one] = [two]"
   ]
  },
  {
   "cell_type": "code",
   "execution_count": 71,
   "metadata": {
    "collapsed": false
   },
   "outputs": [],
   "source": [
    "with codecs.open('embedded_entries.txt', 'w', 'utf8') as f:\n",
    "    f.write('{\\n')\n",
    "    for key in results.keys():\n",
    "        f.write(str(key)+' : ['+' , '.join(set(results[key]))+'],\\n')\n",
    "    f.write('}')"
   ]
  },
  {
   "cell_type": "markdown",
   "metadata": {},
   "source": [
    "# Second pass : take out embedded entries and duplicates"
   ]
  },
  {
   "cell_type": "code",
   "execution_count": 3,
   "metadata": {
    "collapsed": false
   },
   "outputs": [],
   "source": [
    "with codecs.open('embedded_entries.txt', 'r', 'utf8') as f:\n",
    "    content = f.readlines()\n",
    "    i = 0\n",
    "    while i <= len(content)-1:\n",
    "        content[i] = content[i].strip()\n",
    "        i = i+1"
   ]
  },
  {
   "cell_type": "code",
   "execution_count": 4,
   "metadata": {
    "collapsed": false
   },
   "outputs": [],
   "source": [
    "results = []\n",
    "for line in content:\n",
    "    entry = line.split(',')\n",
    "    lemma = entry[0]\n",
    "    subs = entry[1:]\n",
    "    results.append((lemma, subs))"
   ]
  },
  {
   "cell_type": "code",
   "execution_count": 5,
   "metadata": {
    "collapsed": false
   },
   "outputs": [],
   "source": [
    "trucs = []\n",
    "for num,entry in enumerate(results):\n",
    "    lemma = entry[0]\n",
    "    for part in entry[1]:\n",
    "        lemma = lemma.replace(part, '')\n",
    "    if lemma != '':\n",
    "        trucs.append(entry)\n",
    "        results.pop(num)"
   ]
  },
  {
   "cell_type": "code",
   "execution_count": 6,
   "metadata": {
    "collapsed": false
   },
   "outputs": [
    {
     "data": {
      "text/plain": [
       "0"
      ]
     },
     "execution_count": 6,
     "metadata": {},
     "output_type": "execute_result"
    }
   ],
   "source": [
    "len(trucs)"
   ]
  },
  {
   "cell_type": "code",
   "execution_count": 87,
   "metadata": {
    "collapsed": true
   },
   "outputs": [],
   "source": [
    "with codecs.open('embedded_entries.txt', 'w', 'utf8') as f:\n",
    "    for line in results:\n",
    "        f.write(line[0])\n",
    "        for part in line[1]:\n",
    "            f.write(','+part)\n",
    "        f.write('\\n')"
   ]
  },
  {
   "cell_type": "code",
   "execution_count": null,
   "metadata": {
    "collapsed": true
   },
   "outputs": [],
   "source": [
    ""
   ]
  }
 ],
 "metadata": {
  "kernelspec": {
   "display_name": "Python 3",
   "language": "python",
   "name": "python3"
  },
  "language_info": {
   "codemirror_mode": {
    "name": "ipython",
    "version": 3.0
   },
   "file_extension": ".py",
   "mimetype": "text/x-python",
   "name": "python",
   "nbconvert_exporter": "python",
   "pygments_lexer": "ipython3",
   "version": "3.5.1"
  }
 },
 "nbformat": 4,
 "nbformat_minor": 0
}