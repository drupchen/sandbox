{
 "cells": [
  {
   "cell_type": "code",
   "execution_count": 2,
   "metadata": {
    "collapsed": true
   },
   "outputs": [],
   "source": [
    "import re\n",
    "import os\n",
    "from bisect import bisect\n",
    "# import TibProcessing"
   ]
  },
  {
   "cell_type": "code",
   "execution_count": 5,
   "metadata": {
    "collapsed": false
   },
   "outputs": [],
   "source": [
    "dadrag = ['ཀུན', 'ཤིན', 'འོན']\n",
    "# check for possible dadrag https://github.com/eroux/tibetan-spellchecker/blob/master/doc/second-suffix-da.md\n"
   ]
  },
  {
   "cell_type": "code",
   "execution_count": 6,
   "metadata": {
    "collapsed": true
   },
   "outputs": [],
   "source": [
    "def syl_info(syl):\n",
    "    ''' returns the required info to part_agreement. either :\n",
    "            - ད་དྲག\n",
    "            - མཐའ་མེད\n",
    "            - the syllable\n",
    "    '''\n",
    "    global dadrag\n",
    "    \n",
    "    mingzhi = get_mingzhi(syl)\n",
    "    if syl in dadrag: \n",
    "        return 'dadrag'\n",
    "    elif re.findall(mingzhi+'[ིེོུའསརྱྲླྷྭ]*$', syl) != []:\n",
    "        return 'thame'\n",
    "    else:\n",
    "        return syl\n",
    "    "
   ]
  },
  {
   "cell_type": "code",
   "execution_count": 10,
   "metadata": {
    "collapsed": false
   },
   "outputs": [],
   "source": [
    "\n",
    "def part_agreement(previous, particle):\n",
    "    ''' \n",
    "        proposes the right particle according to the previous syllable. \n",
    "        In case of an invalid previous syllable, returns the particle preceded by *\n",
    "        limitation : particle needs to be a separate syllabes. (the problems with wrong merged agreement will be flagged by get_mingzhi )\n",
    "    '''\n",
    "    if previous == 'dadrag' :\n",
    "        final = 'ད་དྲག' \n",
    "    elif previous == 'thame':\n",
    "        final = 'མཐའ་མེད'\n",
    "    else:\n",
    "        final = previous[-1]\n",
    "        if final not in ['ག', 'ང', 'ད', 'ན', 'བ', 'མ', 'འ', 'ར', 'ལ', 'ས']:\n",
    "            final = None\n",
    "    \n",
    "    if final != None:\n",
    "        # added the ད་དྲག་ for all and the མཐའ་མེད་ for all in provision of all cases where an extra syllable is neede in verses\n",
    "        # dadrag added according to Élie’s rules.\n",
    "        dreldra = {'ད' : 'ཀྱི', 'བ' : 'ཀྱི', 'ས' : 'ཀྱི', 'ག' : 'གི', 'ང' : 'གི', 'ན' : 'གྱི', 'མ' : 'གྱི', 'ར' : 'གྱི', 'ལ' : 'གྱི', 'འ' : 'ཡི', 'མཐའ་མེད' : 'ཡི', 'ད་དྲག' : 'གྱི'}\n",
    "        jedra = {'ད' : 'ཀྱིས', 'བ' : 'ཀྱིས', 'ས' : 'ཀྱིས', 'ག' : 'གིས', 'ང' : 'གིས', 'ན' : 'གྱིས', 'མ' : 'གྱིས', 'ར' : 'གྱིས', 'ལ' : 'གྱིས', 'འ' : 'ཡིས', 'མཐའ་མེད' : 'ཡིས', 'ད་དྲག' : 'གྱིས'}\n",
    "        ladon = {'ག' : 'ཏུ', 'བ' : 'ཏུ', 'ང' : 'དུ', 'ད' : 'དུ', 'ན' : 'དུ', 'མ' : 'དུ', 'ར' : 'དུ', 'ལ' : 'དུ', 'འ' : 'རུ', 'ས' : 'སུ', 'མཐའ་མེད' : 'རུ', 'ད་དྲག' : 'ཏུ'}\n",
    "        lhakce = {'ན' : 'ཏེ', 'ར' : 'ཏེ', 'ལ' : 'ཏེ', 'ས' : 'ཏེ', 'ད' : 'དེ', 'ག' : 'སྟེ', 'ང' : 'སྟེ', 'བ' : 'སྟེ', 'མ' : 'སྟེ', 'འ' : 'སྟེ', 'མཐའ་མེད' : 'སྟེ', 'ད་དྲག' : 'ཏེ'}\n",
    "        gyendu = {'ག' : 'ཀྱང', 'ད' : 'ཀྱང', 'བ' : 'ཀྱང', 'ས' : 'ཀྱང', 'འ' : 'འང', 'ང' : 'ཡང', 'ན' : 'ཡང', 'མ' : 'ཡང', 'འ' : 'ཡང', 'ར' : 'ཡང', 'ལ' : 'ཡང', 'མཐའ་མེད' : 'ཡང', 'ད་དྲག' : 'ཀྱང'}\n",
    "        jedu = {'ག' : 'གམ', 'ང' : 'ངམ', 'ད་དྲག' : 'ཏམ', 'ད' : 'དམ', 'ན' : 'ནམ', 'བ' : 'བམ', 'མ' : 'མམ', 'འ' : 'འམ', 'ར' : 'རམ', 'ལ' : 'ལམ', 'ས' : 'སམ', 'མཐའ་མེད' : 'འམ', 'ད་དྲག' : 'ཏམ'}\n",
    "        dagdra = {'ག' : 'པ', 'ད' : 'པ', 'བ' : 'པ', 'ས' : 'པ', 'ན' : 'པ', 'མ' : 'པ', 'ག' : 'པོ', 'ད' : 'པོ', 'བ' : 'པོ', 'ས' : 'པོ', 'ན' : 'པོ', 'མ' : 'པོ', 'ང' : 'བ', 'འ' : 'བ', 'ར' : 'བ', 'ལ' : 'བ', 'ང' : 'བོ', 'འ' : 'བོ', 'ར' : 'བོ', 'ལ' : 'བོ', 'མཐའ་མེད' : 'བ', 'མཐའ་མེད' : 'བོ', 'ད་དྲག' : 'པ', 'ད་དྲག' : 'པོ'}\n",
    "        lardu = {'ག' : 'གོ', 'ང' : 'ངོ', 'ད' : 'དོ', 'ན' : 'ནོ', 'བ' : 'བོ', 'མ' : 'མོ', 'འ' : 'འོ', 'ར' : 'རོ', 'ལ' : 'ལོ', 'ས' : 'སོ', 'མཐའ་མེད' : 'འོ', 'ད་དྲག' : 'ཏོ'}\n",
    "        cing = {'ག' : 'ཅིང', 'ད' : 'ཅིང', 'བ' : 'ཅིང', 'ང' : 'ཞིང', 'ན' : 'ཞིང', 'མ' : 'ཞིང', 'འ' : 'ཞིང', 'ར' : 'ཞིང', 'ལ' : 'ཞིང', 'ས' : 'ཤིང', 'མཐའ་མེད' : 'ཞིང', 'ད་དྲག' : 'ཅིང'}\n",
    "        ces = {'ག' : 'ཅེས', 'ད' : 'ཅེས', 'བ' : 'ཅེས', 'ང' : 'ཞེས', 'ན' : 'ཞེས', 'མ' : 'ཞེས', 'འ' : 'ཞེས', 'ར' : 'ཞེས', 'ལ' : 'ཞེས', 'ས' : 'ཞེས', 'མཐའ་མེད' : 'ཞེས', 'ད་དྲག' : 'ཅེས'}\n",
    "        ceo = {'ག' : 'ཅེའོ', 'ད' : 'ཅེའོ', 'བ' : 'ཅེའོ', 'ང' : 'ཞེའོ', 'ན' : 'ཞེའོ', 'མ' : 'ཞེའོ', 'འ' : 'ཞེའོ', 'ར' : 'ཞེའོ', 'ལ' : 'ཞེའོ', 'ས' : 'ཤེའོ', 'མཐའ་མེད' : 'ཞེའོ', 'ད་དྲག' : 'ཅེའོ', }\n",
    "        cena = {'ག' : 'ཅེ་ན', 'ད' : 'ཅེ་ན', 'བ' : 'ཅེ་ན', 'ང' : 'ཞེ་ན', 'ན' : 'ཞེ་ན', 'མ' : 'ཞེ་ན', 'འ' : 'ཞེ་ན', 'ར' : 'ཞེ་ན', 'ལ' : 'ཞེ་ན', 'ས' : 'ཤེ་ན', 'མཐའ་མེད' : 'ཞེ་ན', 'ད་དྲག' : 'ཅེ་ན'}\n",
    "        cig = {'ག' : 'ཅིག', 'ད' : 'ཅིག', 'བ' : 'ཅིག', 'ང' : 'ཞིག', 'ན' : 'ཞིག', 'མ' : 'ཞིག', 'འ' : 'ཞིག', 'ར' : 'ཞིག', 'ལ' : 'ཞིག', 'ས' : 'ཤིག', 'མཐའ་མེད' : 'ཞིག', 'ད་དྲག' : 'ཅིག', }\n",
    "        # mostly for modern spoken Tibetan. in accord with Esukhia’s decision to make the agreement for this \"new\" particle\n",
    "        gin = {'ད' : 'ཀྱིན', 'བ' : 'ཀྱིན', 'ས' : 'ཀྱིན', 'ག' : 'གིན', 'ང' : 'གིན', 'ན' : 'གྱིན', 'མ' : 'གྱིན', 'ར' : 'གྱིན', 'ལ' : 'གྱིན', 'ད་དྲག' : 'ཀྱིན'}\n",
    "        cases = [([\"གི\", \"ཀྱི\", \"གྱི\", \"ཡི\"], dreldra), ([\"གིས\", \"ཀྱིས\", \"གྱིས\", \"ཡིས\"], jedra), ([\"སུ\", \"ཏུ\", \"དུ\", \"རུ\"] , ladon), ([\"སྟེ\", \"ཏེ\", \"དེ\"], lhakce), ([\"ཀྱང\", \"ཡང\", \"འང\"], gyendu), ([\"གམ\", \"ངམ\", \"དམ\", \"ནམ\", \"བམ\", \"མམ\", \"འམ\", \"རམ\", \"ལམ\", \"སམ\", \"ཏམ\"], jedu), ([\"པ\", \"པོ\", \"བ\", \"བོ\"], dagdra), ([\"གོ\", \"ངོ\", \"དོ\", \"ནོ\", \"བོ\", \"མོ\", \"འོ\", \"རོ\", \"ལོ\", \"སོ\", \"ཏོ\"] , lardu), ([\"ཅིང\",  \"ཤིང\", \"ཞིང\"], cing), ([\"ཅེས\",  \"ཞེས\"], ces), ([\"ཅེའོ\",  \"ཤེའོ\",  \"ཞེའོ\"], ceo), ([\"ཅེ་ན\",  \"ཤེ་ན\",  \"ཞེ་ན\"], cena), ([\"ཅིག\",  \"ཤིག\",  \"ཞིག\"], cig), (['ཀྱིན', 'གིན', 'གྱིན'], gin)]\n",
    "        correction = ''\n",
    "        for case in cases:\n",
    "            if particle in case[0]:\n",
    "                correction = case[1][final]\n",
    "        return correction\n",
    "    else:\n",
    "        return '*'+particle"
   ]
  },
  {
   "cell_type": "code",
   "execution_count": 14,
   "metadata": {
    "collapsed": false
   },
   "outputs": [
    {
     "name": "stdout",
     "output_type": "stream",
     "text": [
      "ར\n",
      "རེག\n",
      "ཅིག\n"
     ]
    }
   ],
   "source": [
    "syl = 'རེག'\n",
    "part = 'ཞིག'\n",
    "previous_syl = syl_info(syl)\n",
    "print(get_mingzhi(syl))\n",
    "print(previous_syl)\n",
    "print(part_agreement(previous_syl, part))"
   ]
  },
  {
   "cell_type": "code",
   "execution_count": 8,
   "metadata": {
    "collapsed": false
   },
   "outputs": [],
   "source": [
    "'''\n",
    "གམ—ཕྲད་ཚིག:རྒྱུན་སྤྱོད།/མིང་ཚིག:\n",
    "གོ—ཕྲད་ཚིག:རྒྱུན་སྤྱོད།/བྱ་ཚིག:བྱ་ཚིག_###+གཟུགས་མི་འགྱུར་བ_ཐ་དད་པ/མིང་ཚིག:/ཚབ་ཚིག:རྒྱུན་སྤྱོད།\n",
    "གྱི—ཕྲད་ཚིག:རྒྱུན་སྤྱོད།/མིང་ཚིག:བརྡ་རྙིང་།\n",
    "གྱིས—ཕྲད་ཚིག:རྒྱུན་སྤྱོད།/བྱ་ཚིག:བགྱིད_སྐུལ་ཚིག_ཐ་དད་པ\n",
    "ངམ—ཕྲད་ཚིག:རྒྱུན་སྤྱོད/རྒྱན་ཚིག:/མིང་ཚིག:\n",
    "ངོ—མིང་ཚིག:རྒྱུན་སྤྱོད།\n",
    "དམ—ཕྲད་ཚིག:རྒྱུན་སྤྱོད།/རྒྱན་ཚིག:ལྡོག་ཚིག\n",
    "དུ—ཕྲད་ཚིག:རྒྱུན་སྤྱོད།\n",
    "དེ—ཕྲད་ཚིག:རྒྱུན་སྤྱོད།/ཚབ་ཚིག:རྒྱུན་སྤྱོད།\n",
    "དོ—གྲངས་ཚིག:/མིང་ཚིག:རྒྱུན་སྤྱོད།/གྲོགས་ཚིག:\n",
    "ནམ—ཚབ་ཚིག:རྒྱུན་སྤྱོད།/མིང་ཚིག:\n",
    "བམ—ཕྲད་ཚིག:རྒྱུན་སྤྱོད།/མིང་ཚིག:/རྒྱན་ཚིག:\n",
    "མོ—མིང་ཚིག:ལྡོག་ཚིག_ལྡོག་ཚིག_ཆོས་ལུགས།_སྒྲ་རིག་པ།/གྲོགས་ཚིག:རྒྱུན་སྤྱོད།\n",
    "ཞིག—གྲོགས་ཚིག:/བྱ་ཚིག:འཇིག_འདས་པ།_ཐ་མི་དད་པ\n",
    "ཞིང—གྲོགས་ཚིག:/མིང་ཚིག:\n",
    "འོ—ཕྲད་ཚིག:རྒྱུན་སྤྱོད།_བརྡ་རྙིང་།/འབོད་ཚིག:/མིང་ཚིག:རྒྱུན་སྤྱོད།\n",
    "ཡང—ཕྲད་ཚིག:རྒྱུན་སྤྱོད།/རྒྱན་ཚིག:ལྡོག་ཚིག_ལྡོག་ཚིག\n",
    "རུ—ཕྲད་ཚིག:རྒྱུན་སྤྱོད།/མིང་ཚིག:བརྡ་རྙིང་།\n",
    "རོ—མིང་ཚིག:རྒྱུན་སྤྱོད།_ཆོས་ལུགས།\n",
    "ལམ—མིང་ཚིག:རྒྱུན་སྤྱོད།_མིང་གི་རྣམ་གྲངས།_ཆོས་ལུགས།\n",
    "ལོ—མིང་ཚིག:རྒྱུན་སྤྱོད།/གྲོགས་ཚིག:\n",
    "ཤིང—མིང་ཚིག:རྒྱུན་སྤྱོད།/བྱ་ཚིག:བྱ་ཚིག_ཐ་མི་དད་པ\n",
    "སུ—ཕྲད་ཚིག:རྒྱུན་སྤྱོད།/ཚབ་ཚིག:རྒྱུན་སྤྱོད།\n",
    "སོ—མིང་ཚིག:རྒྱུན་སྤྱོད།_མངོན་བརྗོད།/ཚབ་ཚིག:རྒྱུན་སྤྱོད།\n",
    "པ—མིང་ཚིག:རྒྱུན་སྤྱོད།/གྲོགས་ཚིག:\n",
    "པོ—ཕྲད་ཚིག:རྒྱུན་སྤྱོད།/གྲོགས་ཚིག:/རྒྱན་ཚིག:\n",
    "བ—མིང་ཚིག:རྒྱུན་སྤྱོད།\n",
    "བོ—ཕྲད་ཚིག:རྒྱུན་སྤྱོད།/གྲོགས་ཚིག:\n",
    "ཡི—ཕྲད་ཚིག:རྒྱུན་སྤྱོད།/མིང་ཚིག:\n",
    "'''\n",
    "# ambiguous particles : entries in Monlam1 that have other tags than གྲོགས་ཚིག་ or ཕྲད་ཚིག་\n",
    "# དུ་ entry as question word/adverb missing in Monlam. I have added it in the list of ambiguous particles\n",
    "# དུ་ | ༡ཕྲད་ཚིག (…)  6. གྲངས་ཅི་ཙམ་མམ་ག་ཚོད་ཅེས་པའི་དོན་སྟོན་བྱེད་དེ།      དཔེར་ན། ཁྱོད་ལ་རོགས་པ་དུ་ཡོད། གནས་ཚུལ་འདི་ཧ་གོ་མཁན་མི་དུ་ཡོད་ལྟ་བུ། \n",
    "non_ambiguous = ['གི', 'ཀྱི', 'གིས', 'ཀྱིས', 'ཡིས', 'ཏུ', 'སྟེ', 'ཏེ', 'ཀྱང', 'འང', 'མམ', 'འམ', 'སམ', 'ཏམ', 'ནོ', 'ཏོ', 'ཅིང', 'ཅེས', 'ཅེའོ', 'ཅིག', 'ཞེས', 'ཞེའོ', 'ཤེའོ', 'ཤིག', 'རམ']\n",
    "ambiguous = ['གམ', 'གོ', 'གྱི', 'གྱིས', 'ངམ', 'ངོ', 'དམ', 'དུ', 'དེ', 'དོ', 'ནམ', 'བམ', 'མོ', 'ཞིག', 'ཞིང', 'འོ', 'ཡང', 'རུ', 'རོ', 'ལམ', 'ལོ', 'ཤིང', 'སུ', 'སོ', 'པ', 'པོ', 'བ', 'བོ', 'ཡི']"
   ]
  },
  {
   "cell_type": "code",
   "execution_count": null,
   "metadata": {
    "collapsed": true
   },
   "outputs": [],
   "source": []
  },
  {
   "cell_type": "code",
   "execution_count": 51,
   "metadata": {
    "collapsed": true
   },
   "outputs": [],
   "source": [
    "ambiguous = ['གམ', 'གོ', 'གྱི', 'གྱིས', 'ངམ', 'ངོ', 'དམ', 'དུ', 'དེ', 'དོ', 'ནམ', 'བམ', 'མོ', 'ཞིག', 'ཞིང', 'འོ', 'ཡང', 'རུ', 'རོ', 'ལམ', 'ལོ', 'ཤིང', 'སུ', 'སོ', 'ཡི']\n",
    "\n",
    "syl_regex = r'[^་༌།༎༏༐༑༔ ]*[་༌།༎༏༐༑༔ ]*'\n",
    "ambiguous_regex = {\n",
    "'གམ' : r'[^་༌།༎༏༐༑༔ ]*[^ག]་གམ[་༌]', \n",
    "'གོ' : r'[^་༌།༎༏༐༑༔ ]*[^ག]་གོ[་༌]', \n",
    "'གྱི' : r'[^་༌།༎༏༐༑༔ ]*[^ནམརལ]་གྱི[་༌]', \n",
    "'གྱིས' : r'[^་༌།༎༏༐༑༔ ]*[^ནམརལ]་གྱིས[་༌]', \n",
    "'ངམ' : r'[^་༌།༎༏༐༑༔ ]*[^ང]་ངམ[་༌]', \n",
    "'ངོ' : r'[^་༌།༎༏༐༑༔ ]*[^ང]་ངོ[་༌]', \n",
    "'དམ' : r'[^་༌།༎༏༐༑༔ ]*[^ད]་དམ[་༌]', \n",
    "'དུ' : r'[^་༌།༎༏༐༑༔ ]*[^ངདནམརལ]་དུ[་༌]', \n",
    "'དེ' : r'[^་༌།༎༏༐༑༔ ]*[^ད]་དེ[་༌]', \n",
    "'དོ' : r'[^་༌།༎༏༐༑༔ ]*[^ད]་དོ[་༌]', \n",
    "'ནམ' : r'[^་༌།༎༏༐༑༔ ]*[^ན]་ནམ[་༌]', \n",
    "'བམ' : r'[^་༌།༎༏༐༑༔ ]*[^བ]་བམ[་༌]', \n",
    "'མོ' : r'[^་༌།༎༏༐༑༔ ]*[^མ]་མོ[་༌]', \n",
    "'ཞིག' : r'[^་༌།༎༏༐༑༔ ]*[^ངནམའརལ]་ཞིག[་༌]', \n",
    "'ཞིང' : r'[^་༌།༎༏༐༑༔ ]*[^ངནམའརལ]་ཞིང[་༌]', \n",
    "'ཡང' : r'[^་༌།༎༏༐༑༔ ]*[^ངནམའརལ]་ཡང[་༌]', \n",
    "'རུ' : r'[^་༌།༎༏༐༑༔ ]*[^རའ]་རུ[་༌]', \n",
    "'རོ' : r'[^་༌།༎༏༐༑༔ ]*[^ར]་རོ[་༌]', \n",
    "'ལམ' : r'[^་༌།༎༏༐༑༔ ]*[^ལ]་ལམ[་༌]', \n",
    "'ལོ' : r'[^་༌།༎༏༐༑༔ ]*[^ལ]་ལོ[་༌]', \n",
    "'ཤིང' : r'[^་༌།༎༏༐༑༔ ]*[^ས]་ཤིང[་༌]', \n",
    "'སུ' : r'[^་༌།༎༏༐༑༔ ]*[^ས]་སུ[་༌]', \n",
    "'སོ' : r'[^་༌།༎༏༐༑༔ ]*[^ས]་སོ[་༌]', \n",
    "'པ' : r'[^་༌།༎༏༐༑༔ ]*[^གདནབམས]་པ[་༌]', \n",
    "'པོ' : r'[^་༌།༎༏༐༑༔ ]*[^གདནབམས]་པོ[་༌]', \n",
    "'བ' : r'[^་༌།༎༏༐༑༔ ]*[^ངའརལ]་བ[་༌]', \n",
    "'བོ' : r'[^་༌།༎༏༐༑༔ ]*[^ངའརལ]་བོ[་༌]', \n",
    "'ཡི' : r'[^་༌།༎༏༐༑༔ ]*[^འ]་ཡི[་༌]', \n",
    "}\n",
    "\n",
    "ambiguous_thame = ['ཞིག', 'ཞིང', 'འོ', 'ཡང', 'རུ', 'བ', 'བོ']\n",
    "ambiguous_dadrag = ['གྱི', 'གྱིས', 'པ', 'པོ'] "
   ]
  },
  {
   "cell_type": "code",
   "execution_count": 61,
   "metadata": {
    "collapsed": false
   },
   "outputs": [
    {
     "name": "stdout",
     "output_type": "stream",
     "text": [
      "གམ གོ གྱི གྱིས ངམ ངོ དམ དུ དེ དོ ནམ བམ མོ ཞིག ཞིང འོ ཡང རུ རོ ལམ ལོ ཤིང སུ སོ པ པོ བ བོ ཡི\n",
      "ཤེར་ཕྱིན། ཐ།.txt\n",
      "གམ གོ གྱི གྱིས ངམ ངོ དམ དུ དེ དོ ནམ བམ མོ ཞིག ཞིང འོ ཡང རུ རོ ལམ ལོ ཤིང སུ སོ ཡི ཤེར་ཕྱིན། ཀ.txt\n",
      "གམ གོ གྱི གྱིས ངམ ངོ དམ དུ དེ དོ ནམ བམ མོ ཞིག ཞིང འོ ཡང རུ རོ ལམ ལོ ཤིང སུ སོ ཡི ཤེར་ཕྱིན། མ།.txt\n",
      "གམ གོ གྱི གྱིས ངམ ངོ དམ དུ དེ དོ ནམ བམ མོ ཞིག ཞིང འོ ཡང རུ རོ ལམ ལོ ཤིང སུ སོ ཡི བསྟོད་ཚོགས། ཀ.txt\n",
      "གམ གོ གྱི གྱིས ངམ ངོ དམ དུ དེ དོ ནམ བམ མོ ཞིག ཞིང འོ ཡང རུ རོ ལམ ལོ ཤིང སུ སོ ཡི ཤེར་ཕྱིན། ཆ།.txt\n",
      "གམ གོ གྱི གྱིས ངམ ངོ དམ དུ དེ དོ ནམ བམ མོ ཞིག ཞིང འོ ཡང རུ རོ ལམ ལོ ཤིང སུ སོ ཡི ཤེར་ཕྱིན། ཕ།.txt\n",
      "གམ གོ གྱི གྱིས ངམ ངོ དམ དུ དེ དོ ནམ བམ མོ ཞིག ཞིང འོ ཡང རུ རོ ལམ ལོ ཤིང སུ སོ ཡི ཤེར་ཕྱིན། ཇ།.txt\n",
      "གམ གོ གྱི གྱིས ངམ ངོ དམ དུ དེ དོ ནམ བམ མོ ཞིག ཞིང འོ ཡང རུ རོ ལམ ལོ ཤིང སུ སོ ཡི ཤེར་ཕྱིན། ག.txt\n",
      "གམ གོ གྱི གྱིས ངམ ངོ དམ དུ དེ དོ ནམ བམ མོ ཞིག ཞིང འོ ཡང རུ རོ ལམ ལོ ཤིང སུ སོ ཡི ཤེར་ཕྱིན། ང་།.txt\n",
      "གམ གོ གྱི གྱིས ངམ ངོ དམ དུ དེ དོ ནམ བམ མོ ཞིག ཞིང འོ ཡང རུ རོ ལམ ལོ ཤིང སུ སོ ཡི ཤེར་ཕྱིན། ཁ།.txt\n",
      "གམ གོ གྱི གྱིས ངམ ངོ དམ དུ དེ དོ ནམ བམ མོ ཞིག ཞིང འོ ཡང རུ རོ ལམ ལོ ཤིང སུ སོ ཡི ཤེར་ཕྱིན། ཅ།.txt\n",
      "གམ གོ གྱི གྱིས ངམ ངོ དམ དུ དེ དོ ནམ བམ མོ ཞིག ཞིང འོ ཡང རུ རོ ལམ ལོ ཤིང སུ སོ ཡི ཤེར་ཕྱིན། ཉ།.txt\n",
      "གམ གོ གྱི གྱིས ངམ ངོ དམ དུ དེ དོ ནམ བམ མོ ཞིག ཞིང འོ ཡང རུ རོ ལམ ལོ ཤིང སུ སོ ཡི "
     ]
    }
   ],
   "source": [
    "print('གམ གོ གྱི གྱིས ངམ ངོ དམ དུ དེ དོ ནམ བམ མོ ཞིག ཞིང འོ ཡང རུ རོ ལམ ལོ ཤིང སུ སོ པ པོ བ བོ ཡི')\n",
    "left = 5\n",
    "right = 4\n",
    "possible_amb = {}\n",
    "references = {}\n",
    "for File in os.listdir('./texts'):\n",
    "    print(File)\n",
    "    with open('./texts/'+File, 'r', -1, 'utf-8-sig') as f:\n",
    "        content = [line.strip() for line in f.readlines() if line.strip() != '']\n",
    "    for part in ambiguous:\n",
    "        print(part, end = ' ')\n",
    "        amb = []\n",
    "        refs = []\n",
    "        for num, line in enumerate(content):\n",
    "            if part in ambiguous_regex:\n",
    "                regex = re.findall(syl_regex*left+ambiguous_regex[part]+syl_regex*right, line)\n",
    "                if regex != []:\n",
    "                    for elt in regex:\n",
    "                        previous = elt.split('་'+part+'་')[0].split('་')\n",
    "                        previous = previous[len(previous)-1]\n",
    "                        if part in ambiguous_thame and syl_info(previous) != 'thame':\n",
    "                            r = re.split('[་༌།༎༏༐༑༔ ]'+part+'[་༌།༎༏༐༑༔ ]', elt)\n",
    "                            Tuple = (r[0]+'་', part+'་', r[1])\n",
    "                            if Tuple not in amb:\n",
    "                                amb.append(Tuple)\n",
    "                                refs.append((File, num+1))\n",
    "                        if part in ambiguous_dadrag and syl_info(previous) != 'dadrag':\n",
    "                            r = re.split('[་༌།༎༏༐༑༔ ]'+part+'[་༌།༎༏༐༑༔ ]', elt)\n",
    "                            Tuple = (r[0]+'་', part+'་', r[1])\n",
    "                            if Tuple not in amb:\n",
    "                                amb.append(Tuple)\n",
    "                                refs.append((File, num+1))\n",
    "                        if part not in ambiguous_thame and part not in ambiguous_dadrag:\n",
    "                            r = re.split('[་༌།༎༏༐༑༔ ]'+part+'[་༌།༎༏༐༑༔ ]', elt)\n",
    "                            Tuple = (r[0]+'་', part+'་', r[1])\n",
    "                            if Tuple not in amb:\n",
    "                                amb.append(Tuple)\n",
    "                                refs.append((File, num+1))\n",
    "        if amb != []:\n",
    "            if part in possible_amb:\n",
    "                possible_amb[part] = possible_amb[part] + amb\n",
    "                references[part] = references[part] + refs\n",
    "            else:\n",
    "                possible_amb[part] = amb\n",
    "                references[part] = refs"
   ]
  },
  {
   "cell_type": "code",
   "execution_count": 62,
   "metadata": {
    "collapsed": false,
    "scrolled": true
   },
   "outputs": [],
   "source": [
    "for part in list(possible_amb):\n",
    "    with open(part+'_concordance.csv', 'w', -1, 'utf-8-sig') as f:\n",
    "        for num, possible in enumerate(possible_amb[part]):\n",
    "            f.write(possible[0]+','+possible[1]+','+possible[2]+','+str(references[part][num][1])+','+references[part][num][0]+'\\n')"
   ]
  },
  {
   "cell_type": "code",
   "execution_count": null,
   "metadata": {
    "collapsed": true
   },
   "outputs": [],
   "source": []
  }
 ],
 "metadata": {
  "kernelspec": {
   "display_name": "Python 3",
   "language": "python",
   "name": "python3"
  },
  "language_info": {
   "codemirror_mode": {
    "name": "ipython",
    "version": 3
   },
   "file_extension": ".py",
   "mimetype": "text/x-python",
   "name": "python",
   "nbconvert_exporter": "python",
   "pygments_lexer": "ipython3",
   "version": "3.5.1"
  }
 },
 "nbformat": 4,
 "nbformat_minor": 0
}
