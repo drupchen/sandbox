{
 "cells": [
  {
   "cell_type": "code",
   "execution_count": 4,
   "metadata": {
    "collapsed": false
   },
   "outputs": [
    {
     "ename": "ImportError",
     "evalue": "No module named 'TibProcessing'",
     "traceback": [
      "\u001b[1;31m---------------------------------------------------------------------------\u001b[0m",
      "\u001b[1;31mImportError\u001b[0m                               Traceback (most recent call last)",
      "\u001b[1;32m<ipython-input-4-0d231cbfac18>\u001b[0m in \u001b[0;36m<module>\u001b[1;34m()\u001b[0m\n\u001b[0;32m      2\u001b[0m \u001b[1;32mimport\u001b[0m \u001b[0mos\u001b[0m\u001b[1;33m\u001b[0m\u001b[0m\n\u001b[0;32m      3\u001b[0m \u001b[1;32mfrom\u001b[0m \u001b[0mbisect\u001b[0m \u001b[1;32mimport\u001b[0m \u001b[0mbisect\u001b[0m\u001b[1;33m\u001b[0m\u001b[0m\n\u001b[1;32m----> 4\u001b[1;33m \u001b[1;32mfrom\u001b[0m \u001b[0mTibProcessing\u001b[0m \u001b[1;32mimport\u001b[0m \u001b[1;33m*\u001b[0m\u001b[1;33m\u001b[0m\u001b[0m\n\u001b[0m",
      "\u001b[1;31mImportError\u001b[0m: No module named 'TibProcessing'"
     ],
     "output_type": "error"
    }
   ],
   "source": [
    "import re\n",
    "import os\n",
    "from bisect import bisect\n",
    "from TibProcessing import *"
   ]
  },
  {
   "cell_type": "code",
   "execution_count": 8,
   "metadata": {
    "collapsed": false
   },
   "outputs": [],
   "source": [
    "'''\n",
    "གམ—ཕྲད་ཚིག:རྒྱུན་སྤྱོད།/མིང་ཚིག:\n",
    "གོ—ཕྲད་ཚིག:རྒྱུན་སྤྱོད།/བྱ་ཚིག:བྱ་ཚིག_###+གཟུགས་མི་འགྱུར་བ_ཐ་དད་པ/མིང་ཚིག:/ཚབ་ཚིག:རྒྱུན་སྤྱོད།\n",
    "གྱི—ཕྲད་ཚིག:རྒྱུན་སྤྱོད།/མིང་ཚིག:བརྡ་རྙིང་།\n",
    "གྱིས—ཕྲད་ཚིག:རྒྱུན་སྤྱོད།/བྱ་ཚིག:བགྱིད_སྐུལ་ཚིག_ཐ་དད་པ\n",
    "ངམ—ཕྲད་ཚིག:རྒྱུན་སྤྱོད/རྒྱན་ཚིག:/མིང་ཚིག:\n",
    "ངོ—མིང་ཚིག:རྒྱུན་སྤྱོད།\n",
    "དམ—ཕྲད་ཚིག:རྒྱུན་སྤྱོད།/རྒྱན་ཚིག:ལྡོག་ཚིག\n",
    "དུ—ཕྲད་ཚིག:རྒྱུན་སྤྱོད།\n",
    "དེ—ཕྲད་ཚིག:རྒྱུན་སྤྱོད།/ཚབ་ཚིག:རྒྱུན་སྤྱོད།\n",
    "དོ—གྲངས་ཚིག:/མིང་ཚིག:རྒྱུན་སྤྱོད།/གྲོགས་ཚིག:\n",
    "ནམ—ཚབ་ཚིག:རྒྱུན་སྤྱོད།/མིང་ཚིག:\n",
    "བམ—ཕྲད་ཚིག:རྒྱུན་སྤྱོད།/མིང་ཚིག:/རྒྱན་ཚིག:\n",
    "མོ—མིང་ཚིག:ལྡོག་ཚིག_ལྡོག་ཚིག_ཆོས་ལུགས།_སྒྲ་རིག་པ།/གྲོགས་ཚིག:རྒྱུན་སྤྱོད།\n",
    "ཞིག—གྲོགས་ཚིག:/བྱ་ཚིག:འཇིག_འདས་པ།_ཐ་མི་དད་པ\n",
    "ཞིང—གྲོགས་ཚིག:/མིང་ཚིག:\n",
    "འོ—ཕྲད་ཚིག:རྒྱུན་སྤྱོད།_བརྡ་རྙིང་།/འབོད་ཚིག:/མིང་ཚིག:རྒྱུན་སྤྱོད།\n",
    "ཡང—ཕྲད་ཚིག:རྒྱུན་སྤྱོད།/རྒྱན་ཚིག:ལྡོག་ཚིག_ལྡོག་ཚིག\n",
    "རུ—ཕྲད་ཚིག:རྒྱུན་སྤྱོད།/མིང་ཚིག:བརྡ་རྙིང་།\n",
    "རོ—མིང་ཚིག:རྒྱུན་སྤྱོད།_ཆོས་ལུགས།\n",
    "ལམ—མིང་ཚིག:རྒྱུན་སྤྱོད།_མིང་གི་རྣམ་གྲངས།_ཆོས་ལུགས།\n",
    "ལོ—མིང་ཚིག:རྒྱུན་སྤྱོད།/གྲོགས་ཚིག:\n",
    "ཤིང—མིང་ཚིག:རྒྱུན་སྤྱོད།/བྱ་ཚིག:བྱ་ཚིག_ཐ་མི་དད་པ\n",
    "སུ—ཕྲད་ཚིག:རྒྱུན་སྤྱོད།/ཚབ་ཚིག:རྒྱུན་སྤྱོད།\n",
    "སོ—མིང་ཚིག:རྒྱུན་སྤྱོད།_མངོན་བརྗོད།/ཚབ་ཚིག:རྒྱུན་སྤྱོད།\n",
    "པ—མིང་ཚིག:རྒྱུན་སྤྱོད།/གྲོགས་ཚིག:\n",
    "པོ—ཕྲད་ཚིག:རྒྱུན་སྤྱོད།/གྲོགས་ཚིག:/རྒྱན་ཚིག:\n",
    "བ—མིང་ཚིག:རྒྱུན་སྤྱོད།\n",
    "བོ—ཕྲད་ཚིག:རྒྱུན་སྤྱོད།/གྲོགས་ཚིག:\n",
    "ཡི—ཕྲད་ཚིག:རྒྱུན་སྤྱོད།/མིང་ཚིག:\n",
    "'''\n",
    "# ambiguous particles : entries in Monlam1 that have other tags than གྲོགས་ཚིག་ or ཕྲད་ཚིག་\n",
    "# དུ་ entry as question word/adverb missing in Monlam. I have added it in the list of ambiguous particles\n",
    "# དུ་ | ༡ཕྲད་ཚིག (…)  6. གྲངས་ཅི་ཙམ་མམ་ག་ཚོད་ཅེས་པའི་དོན་སྟོན་བྱེད་དེ།      དཔེར་ན། ཁྱོད་ལ་རོགས་པ་དུ་ཡོད། གནས་ཚུལ་འདི་ཧ་གོ་མཁན་མི་དུ་ཡོད་ལྟ་བུ། \n",
    "non_ambiguous = ['གི', 'ཀྱི', 'གིས', 'ཀྱིས', 'ཡིས', 'ཏུ', 'སྟེ', 'ཏེ', 'ཀྱང', 'འང', 'མམ', 'འམ', 'སམ', 'ཏམ', 'ནོ', 'ཏོ', 'ཅིང', 'ཅེས', 'ཅེའོ', 'ཅིག', 'ཞེས', 'ཞེའོ', 'ཤེའོ', 'ཤིག', 'རམ']\n",
    "ambiguous = ['གམ', 'གོ', 'གྱི', 'གྱིས', 'ངམ', 'ངོ', 'དམ', 'དུ', 'དེ', 'དོ', 'ནམ', 'བམ', 'མོ', 'ཞིག', 'ཞིང', 'འོ', 'ཡང', 'རུ', 'རོ', 'ལམ', 'ལོ', 'ཤིང', 'སུ', 'སོ', 'པ', 'པོ', 'བ', 'བོ', 'ཡི']"
   ]
  },
  {
   "cell_type": "code",
   "execution_count": null,
   "metadata": {
    "collapsed": true
   },
   "outputs": [],
   "source": [
    ""
   ]
  },
  {
   "cell_type": "code",
   "execution_count": 51,
   "metadata": {
    "collapsed": true
   },
   "outputs": [],
   "source": [
    "ambiguous = ['གམ', 'གོ', 'གྱི', 'གྱིས', 'ངམ', 'ངོ', 'དམ', 'དུ', 'དེ', 'དོ', 'ནམ', 'བམ', 'མོ', 'ཞིག', 'ཞིང', 'འོ', 'ཡང', 'རུ', 'རོ', 'ལམ', 'ལོ', 'ཤིང', 'སུ', 'སོ', 'ཡི']\n",
    "\n",
    "syl_regex = r'[^་༌།༎༏༐༑༔ ]*[་༌།༎༏༐༑༔ ]*'\n",
    "ambiguous_regex = {\n",
    "'གམ' : r'[^་༌།༎༏༐༑༔ ]*[^ག]་གམ[་༌]', \n",
    "'གོ' : r'[^་༌།༎༏༐༑༔ ]*[^ག]་གོ[་༌]', \n",
    "'གྱི' : r'[^་༌།༎༏༐༑༔ ]*[^ནམརལ]་གྱི[་༌]', \n",
    "'གྱིས' : r'[^་༌།༎༏༐༑༔ ]*[^ནམརལ]་གྱིས[་༌]', \n",
    "'ངམ' : r'[^་༌།༎༏༐༑༔ ]*[^ང]་ངམ[་༌]', \n",
    "'ངོ' : r'[^་༌།༎༏༐༑༔ ]*[^ང]་ངོ[་༌]', \n",
    "'དམ' : r'[^་༌།༎༏༐༑༔ ]*[^ད]་དམ[་༌]', \n",
    "'དུ' : r'[^་༌།༎༏༐༑༔ ]*[^ངདནམརལ]་དུ[་༌]', \n",
    "'དེ' : r'[^་༌།༎༏༐༑༔ ]*[^ད]་དེ[་༌]', \n",
    "'དོ' : r'[^་༌།༎༏༐༑༔ ]*[^ད]་དོ[་༌]', \n",
    "'ནམ' : r'[^་༌།༎༏༐༑༔ ]*[^ན]་ནམ[་༌]', \n",
    "'བམ' : r'[^་༌།༎༏༐༑༔ ]*[^བ]་བམ[་༌]', \n",
    "'མོ' : r'[^་༌།༎༏༐༑༔ ]*[^མ]་མོ[་༌]', \n",
    "'ཞིག' : r'[^་༌།༎༏༐༑༔ ]*[^ངནམའརལ]་ཞིག[་༌]', \n",
    "'ཞིང' : r'[^་༌།༎༏༐༑༔ ]*[^ངནམའརལ]་ཞིང[་༌]', \n",
    "'ཡང' : r'[^་༌།༎༏༐༑༔ ]*[^ངནམའརལ]་ཡང[་༌]', \n",
    "'རུ' : r'[^་༌།༎༏༐༑༔ ]*[^རའ]་རུ[་༌]', \n",
    "'རོ' : r'[^་༌།༎༏༐༑༔ ]*[^ར]་རོ[་༌]', \n",
    "'ལམ' : r'[^་༌།༎༏༐༑༔ ]*[^ལ]་ལམ[་༌]', \n",
    "'ལོ' : r'[^་༌།༎༏༐༑༔ ]*[^ལ]་ལོ[་༌]', \n",
    "'ཤིང' : r'[^་༌།༎༏༐༑༔ ]*[^ས]་ཤིང[་༌]', \n",
    "'སུ' : r'[^་༌།༎༏༐༑༔ ]*[^ས]་སུ[་༌]', \n",
    "'སོ' : r'[^་༌།༎༏༐༑༔ ]*[^ས]་སོ[་༌]', \n",
    "'པ' : r'[^་༌།༎༏༐༑༔ ]*[^གདནབམས]་པ[་༌]', \n",
    "'པོ' : r'[^་༌།༎༏༐༑༔ ]*[^གདནབམས]་པོ[་༌]', \n",
    "'བ' : r'[^་༌།༎༏༐༑༔ ]*[^ངའརལ]་བ[་༌]', \n",
    "'བོ' : r'[^་༌།༎༏༐༑༔ ]*[^ངའརལ]་བོ[་༌]', \n",
    "'ཡི' : r'[^་༌།༎༏༐༑༔ ]*[^འ]་ཡི[་༌]', \n",
    "}\n",
    "\n",
    "ambiguous_thame = ['ཞིག', 'ཞིང', 'འོ', 'ཡང', 'རུ', 'བ', 'བོ']\n",
    "ambiguous_dadrag = ['གྱི', 'གྱིས', 'པ', 'པོ']"
   ]
  },
  {
   "cell_type": "code",
   "execution_count": 61,
   "metadata": {
    "collapsed": false
   },
   "outputs": [
    {
     "name": "stdout",
     "output_type": "stream",
     "text": [
      "གམ གོ གྱི གྱིས ངམ ངོ དམ དུ དེ དོ ནམ བམ མོ ཞིག ཞིང འོ ཡང རུ རོ ལམ ལོ ཤིང སུ སོ པ པོ བ བོ ཡི\n",
      "ཤེར་ཕྱིན། ཐ།.txt\n",
      "གམ གོ གྱི གྱིས ངམ ངོ དམ དུ དེ དོ ནམ བམ མོ ཞིག ཞིང འོ ཡང རུ རོ ལམ ལོ ཤིང སུ སོ ཡི ཤེར་ཕྱིན། ཀ.txt\n",
      "གམ གོ གྱི གྱིས ངམ ངོ དམ དུ དེ དོ ནམ བམ མོ ཞིག ཞིང འོ ཡང རུ རོ ལམ ལོ ཤིང སུ སོ ཡི ཤེར་ཕྱིན། མ།.txt\n",
      "གམ གོ གྱི གྱིས ངམ ངོ དམ དུ དེ དོ ནམ བམ མོ ཞིག ཞིང འོ ཡང རུ རོ ལམ ལོ ཤིང སུ སོ ཡི བསྟོད་ཚོགས། ཀ.txt\n",
      "གམ གོ གྱི གྱིས ངམ ངོ དམ དུ དེ དོ ནམ བམ མོ ཞིག ཞིང འོ ཡང རུ རོ ལམ ལོ ཤིང སུ སོ ཡི ཤེར་ཕྱིན། ཆ།.txt\n",
      "གམ གོ གྱི གྱིས ངམ ངོ དམ དུ དེ དོ ནམ བམ མོ ཞིག ཞིང འོ ཡང རུ རོ ལམ ལོ ཤིང སུ སོ ཡི ཤེར་ཕྱིན། ཕ།.txt\n",
      "གམ གོ གྱི གྱིས ངམ ངོ དམ དུ དེ དོ ནམ བམ མོ ཞིག ཞིང འོ ཡང རུ རོ ལམ ལོ ཤིང སུ སོ ཡི ཤེར་ཕྱིན། ཇ།.txt\n",
      "གམ གོ གྱི གྱིས ངམ ངོ དམ དུ དེ དོ ནམ བམ མོ ཞིག ཞིང འོ ཡང རུ རོ ལམ ལོ ཤིང སུ སོ ཡི ཤེར་ཕྱིན། ག.txt\n",
      "གམ གོ གྱི གྱིས ངམ ངོ དམ དུ དེ དོ ནམ བམ མོ ཞིག ཞིང འོ ཡང རུ རོ ལམ ལོ ཤིང སུ སོ ཡི ཤེར་ཕྱིན། ང་།.txt\n",
      "གམ གོ གྱི གྱིས ངམ ངོ དམ དུ དེ དོ ནམ བམ མོ ཞིག ཞིང འོ ཡང རུ རོ ལམ ལོ ཤིང སུ སོ ཡི ཤེར་ཕྱིན། ཁ།.txt\n",
      "གམ གོ གྱི གྱིས ངམ ངོ དམ དུ དེ དོ ནམ བམ མོ ཞིག ཞིང འོ ཡང རུ རོ ལམ ལོ ཤིང སུ སོ ཡི ཤེར་ཕྱིན། ཅ།.txt\n",
      "གམ གོ གྱི གྱིས ངམ ངོ དམ དུ དེ དོ ནམ བམ མོ ཞིག ཞིང འོ ཡང རུ རོ ལམ ལོ ཤིང སུ སོ ཡི ཤེར་ཕྱིན། ཉ།.txt\n",
      "གམ གོ གྱི གྱིས ངམ ངོ དམ དུ དེ དོ ནམ བམ མོ ཞིག ཞིང འོ ཡང རུ རོ ལམ ལོ ཤིང སུ སོ ཡི "
     ]
    }
   ],
   "source": [
    "print('གམ གོ གྱི གྱིས ངམ ངོ དམ དུ དེ དོ ནམ བམ མོ ཞིག ཞིང འོ ཡང རུ རོ ལམ ལོ ཤིང སུ སོ པ པོ བ བོ ཡི')\n",
    "left = 5\n",
    "right = 4\n",
    "possible_amb = {}\n",
    "references = {}\n",
    "for File in os.listdir('./texts'):\n",
    "    print(File)\n",
    "    with open('./texts/'+File, 'r', -1, 'utf-8-sig') as f:\n",
    "        content = [line.strip() for line in f.readlines() if line.strip() != '']\n",
    "    for part in ambiguous:\n",
    "        print(part, end = ' ')\n",
    "        amb = []\n",
    "        refs = []\n",
    "        for num, line in enumerate(content):\n",
    "            if part in ambiguous_regex:\n",
    "                regex = re.findall(syl_regex*left+ambiguous_regex[part]+syl_regex*right, line)\n",
    "                if regex != []:\n",
    "                    for elt in regex:\n",
    "                        previous = elt.split('་'+part+'་')[0].split('་')\n",
    "                        previous = previous[len(previous)-1]\n",
    "                        if part in ambiguous_thame and syl_info(previous) != 'thame':\n",
    "                            r = re.split('[་༌།༎༏༐༑༔ ]'+part+'[་༌།༎༏༐༑༔ ]', elt)\n",
    "                            Tuple = (r[0]+'་', part+'་', r[1])\n",
    "                            if Tuple not in amb:\n",
    "                                amb.append(Tuple)\n",
    "                                refs.append((File, num+1))\n",
    "                        if part in ambiguous_dadrag and syl_info(previous) != 'dadrag':\n",
    "                            r = re.split('[་༌།༎༏༐༑༔ ]'+part+'[་༌།༎༏༐༑༔ ]', elt)\n",
    "                            Tuple = (r[0]+'་', part+'་', r[1])\n",
    "                            if Tuple not in amb:\n",
    "                                amb.append(Tuple)\n",
    "                                refs.append((File, num+1))\n",
    "                        if part not in ambiguous_thame and part not in ambiguous_dadrag:\n",
    "                            r = re.split('[་༌།༎༏༐༑༔ ]'+part+'[་༌།༎༏༐༑༔ ]', elt)\n",
    "                            Tuple = (r[0]+'་', part+'་', r[1])\n",
    "                            if Tuple not in amb:\n",
    "                                amb.append(Tuple)\n",
    "                                refs.append((File, num+1))\n",
    "        if amb != []:\n",
    "            if part in possible_amb:\n",
    "                possible_amb[part] = possible_amb[part] + amb\n",
    "                references[part] = references[part] + refs\n",
    "            else:\n",
    "                possible_amb[part] = amb\n",
    "                references[part] = refs"
   ]
  },
  {
   "cell_type": "code",
   "execution_count": 62,
   "metadata": {
    "collapsed": false,
    "scrolled": true
   },
   "outputs": [],
   "source": [
    "for part in list(possible_amb):\n",
    "    with open(part+'_concordance.csv', 'w', -1, 'utf-8-sig') as f:\n",
    "        for num, possible in enumerate(possible_amb[part]):\n",
    "            f.write(possible[0]+','+possible[1]+','+possible[2]+','+str(references[part][num][1])+','+references[part][num][0]+'\\n')"
   ]
  },
  {
   "cell_type": "code",
   "execution_count": null,
   "metadata": {
    "collapsed": true
   },
   "outputs": [],
   "source": [
    ""
   ]
  }
 ],
 "metadata": {
  "kernelspec": {
   "display_name": "Python 3",
   "language": "python",
   "name": "python3"
  },
  "language_info": {
   "codemirror_mode": {
    "name": "ipython",
    "version": 3.0
   },
   "file_extension": ".py",
   "mimetype": "text/x-python",
   "name": "python",
   "nbconvert_exporter": "python",
   "pygments_lexer": "ipython3",
   "version": "3.5.1"
  }
 },
 "nbformat": 4,
 "nbformat_minor": 0
}