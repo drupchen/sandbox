{
 "cells": [
  {
   "cell_type": "code",
   "execution_count": 3,
   "metadata": {
    "collapsed": false
   },
   "outputs": [],
   "source": [
    "from TibProcessing import *\n",
    "import time"
   ]
  },
  {
   "cell_type": "code",
   "execution_count": 4,
   "metadata": {
    "collapsed": false
   },
   "outputs": [
    {
     "name": "stdout",
     "output_type": "stream",
     "text": [
      "original text :\n",
      " ༄༅།\t།འཕགས་པ ར་ ཤེས་རབ་ ཀྱི་ ཕ་རོལ་ ཏུ་ ཕྱིན་པ་ འབུམ་པ་ དང༌༔  ཉི་ཁྲི་ ལྔ་ སྟོང་པ་ དང།  ཁྲི་ བརྒྱད་སྟོང་པའི་ རྒྱ་ ཆེར་ བཤད་པ༎ ༄༅༅། །འཕགས་པ་ ཤེས་རབ་ ཀྱི་ ཕ་རོལ་ ཏུ་ ཕྱིན་པ་ འབུམ་པ་ དང༌། །ཉི་ཁྲི་ ལྔ་ སྟོང་པ་ དང༌ ། ཁྲི་ བརྒྱད་སྟོང་པའི་ རྒྱ་ ཆེར་ བཤད་པ།\n",
      "no space original text :\n",
      " ༄༅།\t།འཕགས་པར་ཤེས་རབ་ཀྱི་ཕ་རོལ་ཏུ་ཕྱིན་པ་འབུམ་པ་དང༌༔  ཉི་ཁྲི་ལྔ་སྟོང་པ་དང།  ཁྲི་བརྒྱད་སྟོང་པའི་རྒྱ་ཆེར་བཤད་པ༎ ༄༅༅། །འཕགས་པ་ཤེས་རབ་ཀྱི་ཕ་རོལ་ཏུ་ཕྱིན་པ་འབུམ་པ་དང༌། །ཉི་ཁྲི་ལྔ་སྟོང་པ་དང༌། ཁྲི་བརྒྱད་སྟོང་པའི་རྒྱ་ཆེར་བཤད་པ།\n",
      "pseudo-wylie :\n",
      " vphagsxpa r shesxrab kyi phaxrol tu phyinxpa vbumxpa dang:  nyixkhri lnga stongxpa dang;  khri brgyadxstongxpavi rgya cher bshadxpa;; vphagsxpa shesxrab kyi phaxrol tu phyinxpa vbumxpa dang; ;nyixkhri lnga stongxpa dang ; khri brgyadxstongxpavi rgya cher bshadxpa;\n",
      "back to uni :\n",
      " འཕགས་པ ར་ ཤེས་རབ་ ཀྱི་ ཕ་རོལ་ ཏུ་ ཕྱིན་པ་ འབུམ་པ་ དང་༔  ཉི་ཁྲི་ ལྔ་ སྟོང་པ་ དང་།  ཁྲི་ བརྒྱད་སྟོང་པའི་ རྒྱ་ ཆེར་ བཤད་པ།། འཕགས་པ་ ཤེས་རབ་ ཀྱི་ ཕ་རོལ་ ཏུ་ ཕྱིན་པ་ འབུམ་པ་ དང་། །ཉི་ཁྲི་ ལྔ་ སྟོང་པ་ དང་ ། ཁྲི་ བརྒྱད་སྟོང་པའི་ རྒྱ་ ཆེར་ བཤད་པ།\n",
      "no space uni :\n",
      " འཕགས་པར་ཤེས་རབ་ཀྱི་ཕ་རོལ་ཏུ་ཕྱིན་པ་འབུམ་པ་དང་༔  ཉི་ཁྲི་ལྔ་སྟོང་པ་དང་།  ཁྲི་བརྒྱད་སྟོང་པའི་རྒྱ་ཆེར་བཤད་པ།། འཕགས་པ་ཤེས་རབ་ཀྱི་ཕ་རོལ་ཏུ་ཕྱིན་པ་འབུམ་པ་དང་། །ཉི་ཁྲི་ལྔ་སྟོང་པ་དང་། ཁྲི་བརྒྱད་སྟོང་པའི་རྒྱ་ཆེར་བཤད་པ།\n"
     ]
    }
   ],
   "source": [
    "text = '༄༅།\t།འཕགས་པ ར་ ཤེས་རབ་ ཀྱི་ ཕ་རོལ་ ཏུ་ ཕྱིན་པ་ འབུམ་པ་ དང༌༔  ཉི་ཁྲི་ ལྔ་ སྟོང་པ་ དང།  ཁྲི་ བརྒྱད་སྟོང་པའི་ རྒྱ་ ཆེར་ བཤད་པ༎ ༄༅༅། །འཕགས་པ་ ཤེས་རབ་ ཀྱི་ ཕ་རོལ་ ཏུ་ ཕྱིན་པ་ འབུམ་པ་ དང༌། །ཉི་ཁྲི་ ལྔ་ སྟོང་པ་ དང༌ ། ཁྲི་ བརྒྱད་སྟོང་པའི་ རྒྱ་ ཆེར་ བཤད་པ།'\n",
    "\n",
    "pw = AntTib()\n",
    "no = pw.no_space(text)\n",
    "pseudo = pw.to_pw_text(text)\n",
    "uni = pw.from_pw_text(pseudo)\n",
    "nospace = pw.no_space(uni)\n",
    "\n",
    "print('original text :\\n',text)\n",
    "print('no space original text :\\n', no)\n",
    "print('pseudo-wylie :\\n', pseudo)\n",
    "print('back to uni :\\n', uni)\n",
    "print('no space uni :\\n', nospace)"
   ]
  },
  {
   "cell_type": "code",
   "execution_count": 5,
   "metadata": {
    "collapsed": false
   },
   "outputs": [
    {
     "name": "stdout",
     "output_type": "stream",
     "text": [
      "མ\n"
     ]
    }
   ],
   "source": [
    "mzh = Mingzhi()\n",
    "par = SylComponents().get('མངས')\n",
    "print(mzh.get(par))"
   ]
  },
  {
   "cell_type": "code",
   "execution_count": 6,
   "metadata": {
    "collapsed": false
   },
   "outputs": [
    {
     "name": "stdout",
     "output_type": "stream",
     "text": [
      "5.659301519393921\n"
     ]
    }
   ],
   "source": [
    "with open('../../../TibTAL/resources/wylie/ཤེར་ཕྱིན།ཕ།-_clean.txt', 'r', -1, 'utf-8-sig') as f:\n",
    "    content = f.read()\n",
    "o = time.time()\n",
    "ps = pw.to_pw_text(content)\n",
    "t = time.time()\n",
    "print(t - o)"
   ]
  },
  {
   "cell_type": "code",
   "execution_count": 7,
   "metadata": {
    "collapsed": false
   },
   "outputs": [
    {
     "name": "stdout",
     "output_type": "stream",
     "text": [
      "2.2649128437042236\n"
     ]
    }
   ],
   "source": [
    "a = time.time()\n",
    "un = pw.from_pw_text(ps)\n",
    "b = time.time()\n",
    "print(b - a)"
   ]
  },
  {
   "cell_type": "code",
   "execution_count": null,
   "metadata": {
    "collapsed": true
   },
   "outputs": [],
   "source": []
  }
 ],
 "metadata": {
  "kernelspec": {
   "display_name": "Python 3",
   "language": "python",
   "name": "python3"
  },
  "language_info": {
   "codemirror_mode": {
    "name": "ipython",
    "version": 3
   },
   "file_extension": ".py",
   "mimetype": "text/x-python",
   "name": "python",
   "nbconvert_exporter": "python",
   "pygments_lexer": "ipython3",
   "version": "3.5.1"
  }
 },
 "nbformat": 4,
 "nbformat_minor": 0
}
