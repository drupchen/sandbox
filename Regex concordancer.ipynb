{
 "cells": [
  {
   "cell_type": "code",
   "execution_count": 1,
   "metadata": {
    "collapsed": true
   },
   "outputs": [],
   "source": [
    "import re\n",
    "import os"
   ]
  },
  {
   "cell_type": "code",
   "execution_count": 9,
   "metadata": {
    "collapsed": true
   },
   "outputs": [],
   "source": [
    "# number of times the context must be repeated \n",
    "left = 5\n",
    "right = 4\n",
    "\n",
    "# matches a syllable constituted of zero or one non-punctuation + zero or more punctuation\n",
    "context = r'[^་༌།༎༏༐༑༔ ]*[་༌།༎༏༐༑༔ ]*'\n",
    "\n",
    "# list of regexes. The key will be used to write files bearing these names.\n",
    "regexes = {\n",
    "    #'གམ' : r'[་༌།༎༏༐༑༔ ]+?[^་༌།༎༏༐༑༔ ]*[^ག]་གམ[་༌]', \n",
    "    'བར' : r'[^་༌།༎༏༐༑༔ ]* ་བར[་༌]', \n",
    " #   'གྱི' : r'[^་༌།༎༏༐༑༔ ]*[^ནམརལ]་གྱི[་༌]', \n",
    "#    'གྱིས' : r'[^་༌།༎༏༐༑༔ ]*[^ནམརལ]་གྱིས[་༌]', \n",
    "    #'ངམ' : r'[^་༌།༎༏༐༑༔ ]*[^ང]་ངམ[་༌]', \n",
    "   # 'ངོ' : r'[^་༌།༎༏༐༑༔ ]*[^ང]་ངོ[་༌]', \n",
    "  #  'དམ' : r'[^་༌།༎༏༐༑༔ ]*[^ད]་དམ[་༌]', \n",
    " #   'དུ' : r'[^་༌།༎༏༐༑༔ ]*[^ངདནམརལ]་དུ[་༌]', \n",
    "#    'དེ' : r'[^་༌།༎༏༐༑༔ ]*[^ད]་དེ[་༌]', \n",
    "    #'དོ' : r'[^་༌།༎༏༐༑༔ ]*[^ད]་དོ[་༌]', \n",
    "   # 'ནམ' : r'[^་༌།༎༏༐༑༔ ]*[^ན]་ནམ[་༌]', \n",
    "  #  'བམ' : r'[^་༌།༎༏༐༑༔ ]*[^བ]་བམ[་༌]', \n",
    " #   'མོ' : r'[^་༌།༎༏༐༑༔ ]*[^མ]་མོ[་༌]', \n",
    "#    'ཞིག' : r'[^་༌།༎༏༐༑༔ ]*[^ངནམའརལ]་ཞིག[་༌]', \n",
    "    #'ཞིང' : r'[^་༌།༎༏༐༑༔ ]*[^ངནམའརལ]་ཞིང[་༌]', \n",
    "   # 'ཡང' : r'[^་༌།༎༏༐༑༔ ]*[^ངནམའརལ]་ཡང[་༌]', \n",
    "  #  'རུ' : r'[^་༌།༎༏༐༑༔ ]*[^རའ]་རུ[་༌]', \n",
    " #   'རོ' : r'[^་༌།༎༏༐༑༔ ]*[^ར]་རོ[་༌]', \n",
    "#    'ལམ' : r'[^་༌།༎༏༐༑༔ ]*[^ལ]་ལམ[་༌]', \n",
    "    #'ལོ' : r'[^་༌།༎༏༐༑༔ ]*[^ལ]་ལོ[་༌]', \n",
    "   # 'ཤིང' : r'[^་༌།༎༏༐༑༔ ]*[^ས]་ཤིང[་༌]', \n",
    "  #  'སུ' : r'[^་༌།༎༏༐༑༔ ]*[^ས]་སུ[་༌]', \n",
    " #   'སོ' : r'[^་༌།༎༏༐༑༔ ]*[^ས]་སོ[་༌]', \n",
    "#    'པ' : r'[^་༌།༎༏༐༑༔ ]*[^གདནབམས]་པ[་༌]', \n",
    "   # 'པོ' : r'[^་༌།༎༏༐༑༔ ]*[^གདནབམས]་པོ[་༌]', \n",
    "  #  'བ' : r'[^་༌།༎༏༐༑༔ ]*[^ངའརལ]་བ[་༌]', \n",
    " #   'བོ' : r'[^་༌།༎༏༐༑༔ ]*[^ངའརལ]་བོ[་༌]', \n",
    "#    'ཡི' : r'[^་༌།༎༏༐༑༔ ]*[^འ]་ཡི[་༌]', \n",
    "}"
   ]
  },
  {
   "cell_type": "code",
   "execution_count": 10,
   "metadata": {
    "collapsed": false
   },
   "outputs": [],
   "source": [
    "concordances = {}\n",
    "references = {}\n",
    "for File in os.listdir('./IN'):\n",
    "    with open('./IN/'+File, 'r', -1, 'utf-8-sig') as f:\n",
    "        content = [line.strip() for line in f.readlines()]\n",
    "    for num, line in enumerate(content):\n",
    "        matches = []\n",
    "        refs = []\n",
    "        for regex in list(regexes):\n",
    "            # find all occurences of the current regex together with the contexts\n",
    "            occurences = re.findall('('+context*left+')('+regexes[regex]+')('+context*right+')', line)\n",
    "            for occ in occurences:\n",
    "                # avoid duplicate\n",
    "                if occ not in matches:\n",
    "                    matches.append(occ)\n",
    "                    refs.append((File, num+1))\n",
    "        if matches != []:\n",
    "            if regex in concordances:\n",
    "                concordances[regex] = concordances[regex] + matches\n",
    "                references[regex] = references[regex] + refs\n",
    "            else:\n",
    "                concordances[regex] = matches\n",
    "                references[regex] = refs"
   ]
  },
  {
   "cell_type": "code",
   "execution_count": 11,
   "metadata": {
    "collapsed": true
   },
   "outputs": [],
   "source": [
    "for conc in list(concordances):\n",
    "    with open('./'+conc+'_concordance.csv', 'w', -1, 'utf-8-sig') as f:\n",
    "        for num, c in enumerate(concordances[conc]):\n",
    "            # formats the entries as follows: leftContext, match, rightContext, lineNumber, fileName\n",
    "            f.write(c[0]+','+c[1]+','+c[2]+','+str(references[conc][num][1])+','+references[conc][num][0]+'\\n')"
   ]
  },
  {
   "cell_type": "code",
   "execution_count": 12,
   "metadata": {
    "collapsed": false
   },
   "outputs": [
    {
     "data": {
      "text/plain": [
       "0"
      ]
     },
     "execution_count": 12,
     "metadata": {},
     "output_type": "execute_result"
    }
   ],
   "source": [
    "len(references)"
   ]
  },
  {
   "cell_type": "code",
   "execution_count": null,
   "metadata": {
    "collapsed": true
   },
   "outputs": [],
   "source": [
    ""
   ]
  }
 ],
 "metadata": {
  "kernelspec": {
   "display_name": "Python 3",
   "language": "python",
   "name": "python3"
  },
  "language_info": {
   "codemirror_mode": {
    "name": "ipython",
    "version": 3.0
   },
   "file_extension": ".py",
   "mimetype": "text/x-python",
   "name": "python",
   "nbconvert_exporter": "python",
   "pygments_lexer": "ipython3",
   "version": "3.4.3"
  }
 },
 "nbformat": 4,
 "nbformat_minor": 0
}